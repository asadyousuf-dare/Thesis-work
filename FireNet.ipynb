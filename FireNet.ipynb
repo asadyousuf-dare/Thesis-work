{
  "nbformat": 4,
  "nbformat_minor": 0,
  "metadata": {
    "colab": {
      "name": "FireNet.ipynb",
      "provenance": [],
      "mount_file_id": "1MevQJGxgRwb6tf8jsAbg1fipvV_Dv1f_",
      "authorship_tag": "ABX9TyORvEdO9mQPE5AtzUDPhctt",
      "include_colab_link": true
    },
    "kernelspec": {
      "name": "python3",
      "display_name": "Python 3"
    },
    "language_info": {
      "name": "python"
    }
  },
  "cells": [
    {
      "cell_type": "markdown",
      "metadata": {
        "id": "view-in-github",
        "colab_type": "text"
      },
      "source": [
        "<a href=\"https://colab.research.google.com/github/asadyousuf-dare/Thesis-work/blob/main/FireNet.ipynb\" target=\"_parent\"><img src=\"https://colab.research.google.com/assets/colab-badge.svg\" alt=\"Open In Colab\"/></a>"
      ]
    },
    {
      "cell_type": "code",
      "metadata": {
        "id": "EDdYR382uYel"
      },
      "source": [
        "import numpy as np\n",
        "import pandas as pd\n",
        "import sklearn\n",
        "import seaborn as sn\n",
        "import matplotlib.pyplot as plt\n",
        "from numpy import percentile\n",
        "from scipy.stats import spearmanr\n",
        "from sklearn.metrics import r2_score\n",
        "from sklearn.metrics import mean_squared_error\n",
        "from sklearn.metrics import mean_absolute_error\n",
        "from scipy.stats import kendalltau\n",
        "from sklearn.model_selection import train_test_split\n",
        "from sklearn.preprocessing import StandardScaler\n"
      ],
      "execution_count": 1,
      "outputs": []
    },
    {
      "cell_type": "code",
      "metadata": {
        "colab": {
          "base_uri": "https://localhost:8080/"
        },
        "id": "qUtmDRDavZRd",
        "outputId": "8bfc5c17-55b7-43da-db53-f7c7bc33fac1"
      },
      "source": [
        "%cd/content/drive/MyDrive/Fire Net"
      ],
      "execution_count": 2,
      "outputs": [
        {
          "output_type": "stream",
          "text": [
            "/content/drive/MyDrive/Fire Net\n"
          ],
          "name": "stdout"
        }
      ]
    },
    {
      "cell_type": "code",
      "metadata": {
        "id": "IWBJaY_AvcMs"
      },
      "source": [
        "x = pd.read_excel('/content/drive/MyDrive/Fire Net/learning_variable _x.xlsx')"
      ],
      "execution_count": 3,
      "outputs": []
    },
    {
      "cell_type": "code",
      "metadata": {
        "colab": {
          "base_uri": "https://localhost:8080/",
          "height": 416
        },
        "id": "9YYWev72vypv",
        "outputId": "1ad3b8fb-2c18-4283-b4b3-9c5baf21c60f"
      },
      "source": [
        "x"
      ],
      "execution_count": 4,
      "outputs": [
        {
          "output_type": "execute_result",
          "data": {
            "text/html": [
              "<div>\n",
              "<style scoped>\n",
              "    .dataframe tbody tr th:only-of-type {\n",
              "        vertical-align: middle;\n",
              "    }\n",
              "\n",
              "    .dataframe tbody tr th {\n",
              "        vertical-align: top;\n",
              "    }\n",
              "\n",
              "    .dataframe thead th {\n",
              "        text-align: right;\n",
              "    }\n",
              "</style>\n",
              "<table border=\"1\" class=\"dataframe\">\n",
              "  <thead>\n",
              "    <tr style=\"text-align: right;\">\n",
              "      <th></th>\n",
              "      <th>W (mm)</th>\n",
              "      <th>fc (MPa)</th>\n",
              "      <th>ec (mm)</th>\n",
              "      <th>r (%)</th>\n",
              "      <th>BC</th>\n",
              "      <th>SS (mm)</th>\n",
              "      <th>f</th>\n",
              "      <th>H (%)</th>\n",
              "      <th>A</th>\n",
              "      <th>P (kN)</th>\n",
              "    </tr>\n",
              "  </thead>\n",
              "  <tbody>\n",
              "    <tr>\n",
              "      <th>0</th>\n",
              "      <td>305</td>\n",
              "      <td>34.2</td>\n",
              "      <td>0</td>\n",
              "      <td>2.19</td>\n",
              "      <td>0</td>\n",
              "      <td>305</td>\n",
              "      <td>0</td>\n",
              "      <td>5</td>\n",
              "      <td>1</td>\n",
              "      <td>0</td>\n",
              "    </tr>\n",
              "    <tr>\n",
              "      <th>1</th>\n",
              "      <td>305</td>\n",
              "      <td>36.9</td>\n",
              "      <td>0</td>\n",
              "      <td>2.19</td>\n",
              "      <td>0</td>\n",
              "      <td>305</td>\n",
              "      <td>0</td>\n",
              "      <td>15</td>\n",
              "      <td>1</td>\n",
              "      <td>1333</td>\n",
              "    </tr>\n",
              "    <tr>\n",
              "      <th>2</th>\n",
              "      <td>305</td>\n",
              "      <td>34.2</td>\n",
              "      <td>0</td>\n",
              "      <td>2.19</td>\n",
              "      <td>0</td>\n",
              "      <td>305</td>\n",
              "      <td>0</td>\n",
              "      <td>70</td>\n",
              "      <td>1</td>\n",
              "      <td>800</td>\n",
              "    </tr>\n",
              "    <tr>\n",
              "      <th>3</th>\n",
              "      <td>305</td>\n",
              "      <td>35.1</td>\n",
              "      <td>0</td>\n",
              "      <td>2.19</td>\n",
              "      <td>0</td>\n",
              "      <td>305</td>\n",
              "      <td>0</td>\n",
              "      <td>63</td>\n",
              "      <td>1</td>\n",
              "      <td>711</td>\n",
              "    </tr>\n",
              "    <tr>\n",
              "      <th>4</th>\n",
              "      <td>406</td>\n",
              "      <td>40.7</td>\n",
              "      <td>0</td>\n",
              "      <td>2.47</td>\n",
              "      <td>0</td>\n",
              "      <td>406</td>\n",
              "      <td>0</td>\n",
              "      <td>9</td>\n",
              "      <td>1</td>\n",
              "      <td>0</td>\n",
              "    </tr>\n",
              "    <tr>\n",
              "      <th>...</th>\n",
              "      <td>...</td>\n",
              "      <td>...</td>\n",
              "      <td>...</td>\n",
              "      <td>...</td>\n",
              "      <td>...</td>\n",
              "      <td>...</td>\n",
              "      <td>...</td>\n",
              "      <td>...</td>\n",
              "      <td>...</td>\n",
              "      <td>...</td>\n",
              "    </tr>\n",
              "    <tr>\n",
              "      <th>79</th>\n",
              "      <td>300</td>\n",
              "      <td>58.0</td>\n",
              "      <td>20</td>\n",
              "      <td>2.18</td>\n",
              "      <td>1</td>\n",
              "      <td>300</td>\n",
              "      <td>0</td>\n",
              "      <td>47</td>\n",
              "      <td>2</td>\n",
              "      <td>892</td>\n",
              "    </tr>\n",
              "    <tr>\n",
              "      <th>80</th>\n",
              "      <td>300</td>\n",
              "      <td>69.0</td>\n",
              "      <td>20</td>\n",
              "      <td>2.28</td>\n",
              "      <td>1</td>\n",
              "      <td>300</td>\n",
              "      <td>0</td>\n",
              "      <td>45</td>\n",
              "      <td>2</td>\n",
              "      <td>973</td>\n",
              "    </tr>\n",
              "    <tr>\n",
              "      <th>81</th>\n",
              "      <td>300</td>\n",
              "      <td>67.0</td>\n",
              "      <td>20</td>\n",
              "      <td>2.28</td>\n",
              "      <td>1</td>\n",
              "      <td>150</td>\n",
              "      <td>0</td>\n",
              "      <td>51</td>\n",
              "      <td>2</td>\n",
              "      <td>996</td>\n",
              "    </tr>\n",
              "    <tr>\n",
              "      <th>82</th>\n",
              "      <td>300</td>\n",
              "      <td>60.0</td>\n",
              "      <td>40</td>\n",
              "      <td>2.28</td>\n",
              "      <td>1</td>\n",
              "      <td>150</td>\n",
              "      <td>0</td>\n",
              "      <td>41</td>\n",
              "      <td>2</td>\n",
              "      <td>892</td>\n",
              "    </tr>\n",
              "    <tr>\n",
              "      <th>83</th>\n",
              "      <td>300</td>\n",
              "      <td>37.8</td>\n",
              "      <td>0</td>\n",
              "      <td>0.89</td>\n",
              "      <td>2</td>\n",
              "      <td>240</td>\n",
              "      <td>0</td>\n",
              "      <td>99</td>\n",
              "      <td>1</td>\n",
              "      <td>1400</td>\n",
              "    </tr>\n",
              "  </tbody>\n",
              "</table>\n",
              "<p>84 rows × 10 columns</p>\n",
              "</div>"
            ],
            "text/plain": [
              "    W (mm)  fc (MPa)  ec (mm)  r (%)  BC  SS (mm)  f  H (%)  A  P (kN)\n",
              "0      305      34.2        0   2.19   0      305  0      5  1       0\n",
              "1      305      36.9        0   2.19   0      305  0     15  1    1333\n",
              "2      305      34.2        0   2.19   0      305  0     70  1     800\n",
              "3      305      35.1        0   2.19   0      305  0     63  1     711\n",
              "4      406      40.7        0   2.47   0      406  0      9  1       0\n",
              "..     ...       ...      ...    ...  ..      ... ..    ... ..     ...\n",
              "79     300      58.0       20   2.18   1      300  0     47  2     892\n",
              "80     300      69.0       20   2.28   1      300  0     45  2     973\n",
              "81     300      67.0       20   2.28   1      150  0     51  2     996\n",
              "82     300      60.0       40   2.28   1      150  0     41  2     892\n",
              "83     300      37.8        0   0.89   2      240  0     99  1    1400\n",
              "\n",
              "[84 rows x 10 columns]"
            ]
          },
          "metadata": {
            "tags": []
          },
          "execution_count": 4
        }
      ]
    },
    {
      "cell_type": "code",
      "metadata": {
        "id": "WCJqKK2twBZY"
      },
      "source": [
        "y=pd.read_excel('/content/drive/MyDrive/Fire Net/learning _variable _Y.xlsx')"
      ],
      "execution_count": 5,
      "outputs": []
    },
    {
      "cell_type": "code",
      "metadata": {
        "colab": {
          "base_uri": "https://localhost:8080/",
          "height": 416
        },
        "id": "xGbv49jOwJBo",
        "outputId": "5a22c84e-3329-45ee-8f56-46ed344d0a03"
      },
      "source": [
        "y"
      ],
      "execution_count": 6,
      "outputs": [
        {
          "output_type": "execute_result",
          "data": {
            "text/html": [
              "<div>\n",
              "<style scoped>\n",
              "    .dataframe tbody tr th:only-of-type {\n",
              "        vertical-align: middle;\n",
              "    }\n",
              "\n",
              "    .dataframe tbody tr th {\n",
              "        vertical-align: top;\n",
              "    }\n",
              "\n",
              "    .dataframe thead th {\n",
              "        text-align: right;\n",
              "    }\n",
              "</style>\n",
              "<table border=\"1\" class=\"dataframe\">\n",
              "  <thead>\n",
              "    <tr style=\"text-align: right;\">\n",
              "      <th></th>\n",
              "      <th>R (min)</th>\n",
              "    </tr>\n",
              "  </thead>\n",
              "  <tbody>\n",
              "    <tr>\n",
              "      <th>0</th>\n",
              "      <td>240</td>\n",
              "    </tr>\n",
              "    <tr>\n",
              "      <th>1</th>\n",
              "      <td>170</td>\n",
              "    </tr>\n",
              "    <tr>\n",
              "      <th>2</th>\n",
              "      <td>218</td>\n",
              "    </tr>\n",
              "    <tr>\n",
              "      <th>3</th>\n",
              "      <td>220</td>\n",
              "    </tr>\n",
              "    <tr>\n",
              "      <th>4</th>\n",
              "      <td>300</td>\n",
              "    </tr>\n",
              "    <tr>\n",
              "      <th>...</th>\n",
              "      <td>...</td>\n",
              "    </tr>\n",
              "    <tr>\n",
              "      <th>79</th>\n",
              "      <td>51</td>\n",
              "    </tr>\n",
              "    <tr>\n",
              "      <th>80</th>\n",
              "      <td>37</td>\n",
              "    </tr>\n",
              "    <tr>\n",
              "      <th>81</th>\n",
              "      <td>636</td>\n",
              "    </tr>\n",
              "    <tr>\n",
              "      <th>82</th>\n",
              "      <td>63</td>\n",
              "    </tr>\n",
              "    <tr>\n",
              "      <th>83</th>\n",
              "      <td>60</td>\n",
              "    </tr>\n",
              "  </tbody>\n",
              "</table>\n",
              "<p>84 rows × 1 columns</p>\n",
              "</div>"
            ],
            "text/plain": [
              "    R (min)\n",
              "0       240\n",
              "1       170\n",
              "2       218\n",
              "3       220\n",
              "4       300\n",
              "..      ...\n",
              "79       51\n",
              "80       37\n",
              "81      636\n",
              "82       63\n",
              "83       60\n",
              "\n",
              "[84 rows x 1 columns]"
            ]
          },
          "metadata": {
            "tags": []
          },
          "execution_count": 6
        }
      ]
    },
    {
      "cell_type": "markdown",
      "metadata": {
        "id": "okzFZyoQx8BU"
      },
      "source": [
        "Using simple Multi_Linear Regression\n"
      ]
    },
    {
      "cell_type": "code",
      "metadata": {
        "id": "66lOTCCdAOQa"
      },
      "source": [
        "from sklearn.linear_model import LinearRegression"
      ],
      "execution_count": 8,
      "outputs": []
    },
    {
      "cell_type": "code",
      "metadata": {
        "id": "-rE9mYdPyI6g"
      },
      "source": [
        "x_train,x_test,y_train,y_test=train_test_split(x,y,test_size=0.20,random_state=0)"
      ],
      "execution_count": 31,
      "outputs": []
    },
    {
      "cell_type": "code",
      "metadata": {
        "colab": {
          "base_uri": "https://localhost:8080/"
        },
        "id": "LkMy8TZHAXFl",
        "outputId": "51161044-6154-47c6-c557-10f9181aa6ef"
      },
      "source": [
        "LR=LinearRegression()\n",
        "LR.fit(x_train,y_train)"
      ],
      "execution_count": 32,
      "outputs": [
        {
          "output_type": "execute_result",
          "data": {
            "text/plain": [
              "LinearRegression(copy_X=True, fit_intercept=True, n_jobs=None, normalize=False)"
            ]
          },
          "metadata": {
            "tags": []
          },
          "execution_count": 32
        }
      ]
    },
    {
      "cell_type": "code",
      "metadata": {
        "id": "qN5sLfO_AfPw"
      },
      "source": [
        "Y_pred=LR.predict(x_test)"
      ],
      "execution_count": 33,
      "outputs": []
    },
    {
      "cell_type": "code",
      "metadata": {
        "id": "bOpkwV7vzayo"
      },
      "source": [
        "R_square=r2_score(y_test,Y_pred)\n",
        "rmse=np.sqrt(mean_squared_error(Y_pred,y_test))\n",
        "mae=mean_absolute_error(Y_pred,y_test)"
      ],
      "execution_count": 34,
      "outputs": []
    },
    {
      "cell_type": "code",
      "metadata": {
        "colab": {
          "base_uri": "https://localhost:8080/"
        },
        "id": "8Ya9XDm3zj_u",
        "outputId": "f5cef5b3-6554-4253-fe9d-b74cec585939"
      },
      "source": [
        "print(\"The computed root mean squared error is = \",rmse)\n",
        "print(\"The computed mean absolute error is = \",mae)\n",
        "print(\"The r2 measure for the model is = \",R_square)"
      ],
      "execution_count": 35,
      "outputs": [
        {
          "output_type": "stream",
          "text": [
            "The computed root mean squared error is =  55.02250700129822\n",
            "The computed mean absolute error is =  42.39239821589388\n",
            "The r2 measure for the model is =  0.6019320372414037\n"
          ],
          "name": "stdout"
        }
      ]
    },
    {
      "cell_type": "code",
      "metadata": {
        "colab": {
          "base_uri": "https://localhost:8080/",
          "height": 398
        },
        "id": "200dtRe8mJCA",
        "outputId": "c008622f-286e-45ae-dd22-c65f6972f206"
      },
      "source": [
        "plt.figure(figsize=(5,5))\n",
        "plt.scatter(y_test, Y_pred, c='blue',label='predicted Resistance')\n",
        "plt.plot(y_test,y_test, color='red', linewidth=2,label=\"Reference\")\n",
        "plt.xlabel('y_test')\n",
        "plt.ylabel('Y_pred')\n",
        "plt.tight_layout()\n",
        "plt.legend()\n",
        "textstr = '$R^{2}=%.2f$' % R_square\n",
        "props = dict(boxstyle='round', facecolor='wheat', alpha=0.5)\n",
        "plt.text(2, 8, textstr, fontsize=18,\n",
        "        verticalalignment='top', bbox=props)\n",
        "plt.show()"
      ],
      "execution_count": 36,
      "outputs": [
        {
          "output_type": "display_data",
          "data": {
            "image/png": "[encoded data removed]",
            "text/plain": [
              "<Figure size 360x360 with 1 Axes>"
            ]
          },
          "metadata": {
            "tags": [],
            "needs_background": "light"
          }
        }
      ]
    },
    {
      "cell_type": "markdown",
      "metadata": {
        "id": "HVaPWUTv2MSu"
      },
      "source": [
        "Polynomial Regression\n"
      ]
    },
    {
      "cell_type": "code",
      "metadata": {
        "id": "H269Nb8l2RqN"
      },
      "source": [
        "from sklearn.preprocessing import PolynomialFeatures"
      ],
      "execution_count": 37,
      "outputs": []
    },
    {
      "cell_type": "code",
      "metadata": {
        "id": "XEQO_7cu3W19"
      },
      "source": [
        "polynomial_features= PolynomialFeatures(degree=2)\n",
        "X_poly_train = polynomial_features.fit_transform(x_train)\n",
        "X_poly_test = polynomial_features.fit_transform(x_test)"
      ],
      "execution_count": 38,
      "outputs": []
    },
    {
      "cell_type": "code",
      "metadata": {
        "id": "oJD6dnIj3nYy"
      },
      "source": [
        "regressor = LinearRegression()  \n",
        "regressor.fit(X_poly_train, y_train) #training the algorithm\n",
        "Y_pred = regressor.predict(X_poly_test)"
      ],
      "execution_count": 39,
      "outputs": []
    },
    {
      "cell_type": "code",
      "metadata": {
        "id": "58xQzaQB3z2c"
      },
      "source": [
        "R_square=r2_score(y_test,Y_pred)\n",
        "rmse=np.sqrt(mean_squared_error(Y_pred,y_test))\n",
        "mae=mean_absolute_error(Y_pred,y_test)"
      ],
      "execution_count": 40,
      "outputs": []
    },
    {
      "cell_type": "code",
      "metadata": {
        "colab": {
          "base_uri": "https://localhost:8080/"
        },
        "id": "HTqJQYMr3_cm",
        "outputId": "b556cd9e-f426-4e3c-ff20-4049e8804755"
      },
      "source": [
        "print(\"The computed root mean squared error is = \",rmse)\n",
        "print(\"The computed mean absolute error is = \",mae)\n",
        "print(\"The r2 measure for the model is = \",R_square)"
      ],
      "execution_count": 41,
      "outputs": [
        {
          "output_type": "stream",
          "text": [
            "The computed root mean squared error is =  559.3033479801005\n",
            "The computed mean absolute error is =  320.1568084428044\n",
            "The r2 measure for the model is =  -40.13119387217902\n"
          ],
          "name": "stdout"
        }
      ]
    },
    {
      "cell_type": "code",
      "metadata": {
        "colab": {
          "base_uri": "https://localhost:8080/",
          "height": 369
        },
        "id": "XC7P_gYs4Ge3",
        "outputId": "c280b1b2-8f22-4745-8de9-1b9ec500aca5"
      },
      "source": [
        "plt.figure(figsize=(5,5))\n",
        "plt.scatter(y_test, Y_pred, c='blue',label='predicted Resistance')\n",
        "plt.plot(y_test,y_test, color='red', linewidth=2,label=\"Reference\")\n",
        "plt.xlabel('y_test')\n",
        "plt.ylabel('Y_pred')\n",
        "plt.tight_layout()\n",
        "plt.legend()\n",
        "textstr = '$R^{2}=%.2f$' % R_square\n",
        "props = dict(boxstyle='round', facecolor='wheat', alpha=0.5)\n",
        "plt.text(2, 8, textstr, fontsize=18,\n",
        "        verticalalignment='top', bbox=props)\n",
        "plt.show()"
      ],
      "execution_count": 42,
      "outputs": [
        {
          "output_type": "display_data",
          "data": {
            "image/png": "[encoded data removed]",
            "text/plain": [
              "<Figure size 360x360 with 1 Axes>"
            ]
          },
          "metadata": {
            "tags": [],
            "needs_background": "light"
          }
        }
      ]
    },
    {
      "cell_type": "markdown",
      "metadata": {
        "id": "kxe-yCsv7Cyi"
      },
      "source": [
        "Ensemble learning\n"
      ]
    },
    {
      "cell_type": "code",
      "metadata": {
        "id": "Fg2KZuK-z75j"
      },
      "source": [
        "import xgboost as xgb\n",
        "from sklearn.model_selection import cross_val_score\n",
        "from sklearn.model_selection import RepeatedKFold\n",
        "from xgboost import XGBRegressor\n",
        "from numpy import absolute"
      ],
      "execution_count": 47,
      "outputs": []
    },
    {
      "cell_type": "code",
      "metadata": {
        "id": "GSt6vSjQ4V0y"
      },
      "source": [
        ""
      ],
      "execution_count": 44,
      "outputs": []
    },
    {
      "cell_type": "code",
      "metadata": {
        "id": "rlL836pf2Vg2",
        "colab": {
          "base_uri": "https://localhost:8080/"
        },
        "outputId": "d2031d87-b13b-424c-ac0d-93d66bbb05f6"
      },
      "source": [
        "#setting one \n",
        "model=XGBRegressor()\n",
        "model.fit(x_train,y_train)"
      ],
      "execution_count": 48,
      "outputs": [
        {
          "output_type": "stream",
          "text": [
            "[19:06:21] WARNING: /workspace/src/objective/regression_obj.cu:152: reg:linear is now deprecated in favor of reg:squarederror.\n"
          ],
          "name": "stdout"
        },
        {
          "output_type": "execute_result",
          "data": {
            "text/plain": [
              "XGBRegressor(base_score=0.5, booster='gbtree', colsample_bylevel=1,\n",
              "             colsample_bynode=1, colsample_bytree=1, gamma=0,\n",
              "             importance_type='gain', learning_rate=0.1, max_delta_step=0,\n",
              "             max_depth=3, min_child_weight=1, missing=None, n_estimators=100,\n",
              "             n_jobs=1, nthread=None, objective='reg:linear', random_state=0,\n",
              "             reg_alpha=0, reg_lambda=1, scale_pos_weight=1, seed=None,\n",
              "             silent=None, subsample=1, verbosity=1)"
            ]
          },
          "metadata": {
            "tags": []
          },
          "execution_count": 48
        }
      ]
    },
    {
      "cell_type": "code",
      "metadata": {
        "id": "fSEchZ8g3MAV"
      },
      "source": [
        "Y_pred=model.predict(x_test)"
      ],
      "execution_count": 49,
      "outputs": []
    },
    {
      "cell_type": "code",
      "metadata": {
        "id": "TulqQc3w9x1O"
      },
      "source": [
        "R_square=r2_score(y_test,Y_pred)\n",
        "rmse=np.sqrt(mean_squared_error(Y_pred,y_test))\n",
        "mae=mean_absolute_error(Y_pred,y_test)"
      ],
      "execution_count": 50,
      "outputs": []
    },
    {
      "cell_type": "code",
      "metadata": {
        "colab": {
          "base_uri": "https://localhost:8080/"
        },
        "id": "_5O62UUX96Xv",
        "outputId": "7306be72-8cd7-4a5a-f8c6-33a6fcce3dab"
      },
      "source": [
        "print(\"The computed root mean squared error is = \",rmse)\n",
        "print(\"The computed mean absolute error is = \",mae)\n",
        "print(\"The r2 measure for the model is = \",R_square)"
      ],
      "execution_count": 51,
      "outputs": [
        {
          "output_type": "stream",
          "text": [
            "The computed root mean squared error is =  60.449995578677665\n",
            "The computed mean absolute error is =  49.20364559397978\n",
            "The r2 measure for the model is =  0.5195269594377347\n"
          ],
          "name": "stdout"
        }
      ]
    },
    {
      "cell_type": "code",
      "metadata": {
        "id": "mkQfvisU-Eaj"
      },
      "source": [
        ""
      ],
      "execution_count": null,
      "outputs": []
    },
    {
      "cell_type": "code",
      "metadata": {
        "colab": {
          "base_uri": "https://localhost:8080/",
          "height": 406
        },
        "id": "c4NugYDW-E5t",
        "outputId": "402a9fe3-07c6-4a46-d76a-49f26df68f9e"
      },
      "source": [
        "plt.figure(figsize=(5,5))\n",
        "plt.scatter(y_test, Y_pred, c='blue',label='predicted Resistance')\n",
        "plt.plot(y_test,y_test, color='red', linewidth=2,label=\"Reference\")\n",
        "plt.xlabel('y_test')\n",
        "plt.ylabel('Y_pred')\n",
        "plt.tight_layout()\n",
        "plt.legend()\n",
        "textstr = '$R^{2}=%.2f$' % R_square\n",
        "props = dict(boxstyle='round', facecolor='wheat', alpha=0.5)\n",
        "plt.text(2, 8, textstr, fontsize=18,\n",
        "        verticalalignment='top', bbox=props)\n",
        "plt.show()"
      ],
      "execution_count": 52,
      "outputs": [
        {
          "output_type": "display_data",
          "data": {
            "image/png": "[encoded data removed]",
            "text/plain": [
              "<Figure size 360x360 with 1 Axes>"
            ]
          },
          "metadata": {
            "tags": [],
            "needs_background": "light"
          }
        }
      ]
    },
    {
      "cell_type": "markdown",
      "metadata": {
        "id": "XsKyT2IC-Ttq"
      },
      "source": [
        "Random forest regression"
      ]
    },
    {
      "cell_type": "code",
      "metadata": {
        "id": "7bTCHEb2Atgw"
      },
      "source": [
        "from sklearn.ensemble import RandomForestRegressor\n",
        "RF_reg=RandomForestRegressor(n_estimators = 5000, max_features = 'auto', min_samples_leaf=2, random_state=1)"
      ],
      "execution_count": 80,
      "outputs": []
    },
    {
      "cell_type": "code",
      "metadata": {
        "id": "WCjo0EBL-gGV"
      },
      "source": [
        ""
      ],
      "execution_count": null,
      "outputs": []
    },
    {
      "cell_type": "code",
      "metadata": {
        "colab": {
          "base_uri": "https://localhost:8080/"
        },
        "id": "n4IIaoVwA_aK",
        "outputId": "8d4f0507-3787-4dbd-ba39-2ed7d83a3c97"
      },
      "source": [
        "RF_reg.fit(x_train,y_train)"
      ],
      "execution_count": 81,
      "outputs": [
        {
          "output_type": "stream",
          "text": [
            "/usr/local/lib/python3.7/dist-packages/ipykernel_launcher.py:1: DataConversionWarning: A column-vector y was passed when a 1d array was expected. Please change the shape of y to (n_samples,), for example using ravel().\n",
            "  \"\"\"Entry point for launching an IPython kernel.\n"
          ],
          "name": "stderr"
        },
        {
          "output_type": "execute_result",
          "data": {
            "text/plain": [
              "RandomForestRegressor(bootstrap=True, ccp_alpha=0.0, criterion='mse',\n",
              "                      max_depth=None, max_features='auto', max_leaf_nodes=None,\n",
              "                      max_samples=None, min_impurity_decrease=0.0,\n",
              "                      min_impurity_split=None, min_samples_leaf=2,\n",
              "                      min_samples_split=2, min_weight_fraction_leaf=0.0,\n",
              "                      n_estimators=5000, n_jobs=None, oob_score=False,\n",
              "                      random_state=1, verbose=0, warm_start=False)"
            ]
          },
          "metadata": {
            "tags": []
          },
          "execution_count": 81
        }
      ]
    },
    {
      "cell_type": "code",
      "metadata": {
        "id": "WWV07zsbBD8w"
      },
      "source": [
        "Y_pred=RF_reg.predict(x_test)"
      ],
      "execution_count": 82,
      "outputs": []
    },
    {
      "cell_type": "code",
      "metadata": {
        "id": "klt5KPUN-35D"
      },
      "source": [
        "R_square=r2_score(y_test,Y_pred)\n",
        "rmse=np.sqrt(mean_squared_error(Y_pred,y_test))\n",
        "mae=mean_absolute_error(Y_pred,y_test)"
      ],
      "execution_count": 83,
      "outputs": []
    },
    {
      "cell_type": "code",
      "metadata": {
        "colab": {
          "base_uri": "https://localhost:8080/"
        },
        "id": "4F52irbW--VR",
        "outputId": "bb41119e-aa25-41c0-878d-b5548afbdc64"
      },
      "source": [
        "print(\"The computed root mean squared error is = \",rmse)\n",
        "print(\"The computed mean absolute error is = \",mae)\n",
        "print(\"The r2 measure for the model is = \",R_square)"
      ],
      "execution_count": 84,
      "outputs": [
        {
          "output_type": "stream",
          "text": [
            "The computed root mean squared error is =  53.57087480897044\n",
            "The computed mean absolute error is =  44.579726673261455\n",
            "The r2 measure for the model is =  0.6226590362399577\n"
          ],
          "name": "stdout"
        }
      ]
    },
    {
      "cell_type": "code",
      "metadata": {
        "colab": {
          "base_uri": "https://localhost:8080/",
          "height": 406
        },
        "id": "2gfq5oWb_IXw",
        "outputId": "c9ac0ed6-9de7-461c-c699-65d6b9258016"
      },
      "source": [
        "plt.figure(figsize=(5,5))\n",
        "plt.scatter(y_test, Y_pred, c='blue',label='predicted Resistance')\n",
        "plt.plot(y_test,y_test, color='red', linewidth=2,label=\"Reference\")\n",
        "plt.xlabel('y_test')\n",
        "plt.ylabel('Y_pred')\n",
        "plt.tight_layout()\n",
        "plt.legend()\n",
        "textstr = '$R^{2}=%.2f$' % R_square\n",
        "props = dict(boxstyle='round', facecolor='wheat', alpha=0.5)\n",
        "plt.text(2, 8, textstr, fontsize=18,\n",
        "        verticalalignment='top', bbox=props)\n",
        "plt.show()"
      ],
      "execution_count": 85,
      "outputs": [
        {
          "output_type": "display_data",
          "data": {
            "image/png": "[encoded data removed]",
            "text/plain": [
              "<Figure size 360x360 with 1 Axes>"
            ]
          },
          "metadata": {
            "tags": [],
            "needs_background": "light"
          }
        }
      ]
    }
  ]
}