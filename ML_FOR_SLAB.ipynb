{
  "nbformat": 4,
  "nbformat_minor": 0,
  "metadata": {
    "colab": {
      "name": "ML FOR SLAB.ipynb",
      "provenance": [],
      "mount_file_id": "1Y5UMReyKuX1DxXc4TvdydbspwNeWAsAq",
      "authorship_tag": "ABX9TyP5tOsKQSFm3pmjyJBI3zpi",
      "include_colab_link": true
    },
    "kernelspec": {
      "name": "python3",
      "display_name": "Python 3"
    },
    "language_info": {
      "name": "python"
    }
  },
  "cells": [
    {
      "cell_type": "markdown",
      "metadata": {
        "id": "view-in-github",
        "colab_type": "text"
      },
      "source": [
        "<a href=\"https://colab.research.google.com/github/asadyousuf-dare/Thesis-work/blob/main/ML_FOR_SLAB.ipynb\" target=\"_parent\"><img src=\"https://colab.research.google.com/assets/colab-badge.svg\" alt=\"Open In Colab\"/></a>"
      ]
    },
    {
      "cell_type": "code",
      "metadata": {
        "id": "p34_rYxaxrIY"
      },
      "source": [
        "import pandas as pd\n",
        "from sklearn.linear_model import LinearRegression\n",
        "from sklearn.model_selection import validation_curve, learning_curve\n",
        "from sklearn.model_selection import train_test_split\n",
        "from sklearn.metrics import r2_score\n",
        "from sklearn.model_selection import GridSearchCV\n",
        "from sklearn.linear_model import Ridge,SGDRegressor\n",
        "import matplotlib.pyplot as plt\n",
        "from sklearn.pipeline import Pipeline, FeatureUnion\n",
        "from sklearn.preprocessing import PolynomialFeatures\n",
        "from sklearn.preprocessing import StandardScaler\n",
        "import numpy as np\n",
        "from sklearn.metrics import mean_squared_error\n"
      ],
      "execution_count": 3,
      "outputs": []
    },
    {
      "cell_type": "code",
      "metadata": {
        "colab": {
          "base_uri": "https://localhost:8080/"
        },
        "id": "O4b1cjh1ypKS",
        "outputId": "83ee4581-83b6-4abf-c300-f6958f2036a6"
      },
      "source": [
        "%cd /content/drive/MyDrive/slab"
      ],
      "execution_count": 1,
      "outputs": [
        {
          "output_type": "stream",
          "text": [
            "/content/drive/MyDrive/slab\n"
          ],
          "name": "stdout"
        }
      ]
    },
    {
      "cell_type": "code",
      "metadata": {
        "id": "jIaSZ1pOyI6f"
      },
      "source": [
        "X = pd.read_excel('LearningVariables.xlsx').values\n",
        "Y = pd.read_excel('LearningY.xlsx').values\n",
        "x=X\n",
        "y=Y"
      ],
      "execution_count": 4,
      "outputs": []
    },
    {
      "cell_type": "code",
      "metadata": {
        "id": "TRXFuE5hyI6f"
      },
      "source": [
        "sc=StandardScaler()\n",
        "x_data=sc.fit_transform(x)\n",
        "y_data=sc.fit_transform (y)"
      ],
      "execution_count": 49,
      "outputs": []
    },
    {
      "cell_type": "code",
      "metadata": {
        "id": "-rE9mYdPyI6g"
      },
      "source": [
        "x_train,x_test,y_train,y_test=train_test_split(x_data,y_data,test_size=0.20,random_state=0)"
      ],
      "execution_count": 53,
      "outputs": []
    },
    {
      "cell_type": "code",
      "metadata": {
        "id": "Hozrt5NuyI6g"
      },
      "source": [
        "Input=[('polynomial',PolynomialFeatures()),('model',Ridge())]\n",
        "pipe=Pipeline(Input)\n",
        "#pipe.get_params().keys()\n"
      ],
      "execution_count": 54,
      "outputs": []
    },
    {
      "cell_type": "code",
      "metadata": {
        "id": "76LWIzO2yI6g"
      },
      "source": [
        "alpha=[1,0.1,0.01,0.001,0.0001,0]\n",
        "degree=[1,2,3,4,5,6,7,8,9,10]\n",
        "grid=GridSearchCV(estimator=pipe, param_grid={'polynomial__degree':degree,'model__alpha':alpha},cv=5, scoring='neg_mean_squared_error', return_train_score=True)"
      ],
      "execution_count": 55,
      "outputs": []
    },
    {
      "cell_type": "code",
      "metadata": {
        "colab": {
          "base_uri": "https://localhost:8080/"
        },
        "id": "HCA9LW0t38Qh",
        "outputId": "7b4f804f-3d1a-47e8-aeac-a3bf8d17ee50"
      },
      "source": [
        "grid.fit(x_train,y_train)"
      ],
      "execution_count": 56,
      "outputs": [
        {
          "output_type": "stream",
          "text": [
            "/usr/local/lib/python3.7/dist-packages/sklearn/linear_model/_ridge.py:190: UserWarning: Singular matrix in solving dual problem. Using least-squares solution instead.\n",
            "  warnings.warn(\"Singular matrix in solving dual problem. Using \"\n",
            "/usr/local/lib/python3.7/dist-packages/sklearn/linear_model/_ridge.py:190: UserWarning: Singular matrix in solving dual problem. Using least-squares solution instead.\n",
            "  warnings.warn(\"Singular matrix in solving dual problem. Using \"\n",
            "/usr/local/lib/python3.7/dist-packages/sklearn/linear_model/_ridge.py:188: LinAlgWarning: Ill-conditioned matrix (rcond=6.20554e-19): result may not be accurate.\n",
            "  overwrite_a=False)\n",
            "/usr/local/lib/python3.7/dist-packages/sklearn/linear_model/_ridge.py:188: LinAlgWarning: Ill-conditioned matrix (rcond=5.64633e-19): result may not be accurate.\n",
            "  overwrite_a=False)\n",
            "/usr/local/lib/python3.7/dist-packages/sklearn/linear_model/_ridge.py:188: LinAlgWarning: Ill-conditioned matrix (rcond=2.04918e-19): result may not be accurate.\n",
            "  overwrite_a=False)\n",
            "/usr/local/lib/python3.7/dist-packages/sklearn/linear_model/_ridge.py:190: UserWarning: Singular matrix in solving dual problem. Using least-squares solution instead.\n",
            "  warnings.warn(\"Singular matrix in solving dual problem. Using \"\n",
            "/usr/local/lib/python3.7/dist-packages/sklearn/linear_model/_ridge.py:188: LinAlgWarning: Ill-conditioned matrix (rcond=5.15137e-19): result may not be accurate.\n",
            "  overwrite_a=False)\n",
            "/usr/local/lib/python3.7/dist-packages/sklearn/linear_model/_ridge.py:188: LinAlgWarning: Ill-conditioned matrix (rcond=5.85012e-19): result may not be accurate.\n",
            "  overwrite_a=False)\n",
            "/usr/local/lib/python3.7/dist-packages/sklearn/linear_model/_ridge.py:190: UserWarning: Singular matrix in solving dual problem. Using least-squares solution instead.\n",
            "  warnings.warn(\"Singular matrix in solving dual problem. Using \"\n",
            "/usr/local/lib/python3.7/dist-packages/sklearn/linear_model/_ridge.py:190: UserWarning: Singular matrix in solving dual problem. Using least-squares solution instead.\n",
            "  warnings.warn(\"Singular matrix in solving dual problem. Using \"\n",
            "/usr/local/lib/python3.7/dist-packages/sklearn/linear_model/_ridge.py:190: UserWarning: Singular matrix in solving dual problem. Using least-squares solution instead.\n",
            "  warnings.warn(\"Singular matrix in solving dual problem. Using \"\n",
            "/usr/local/lib/python3.7/dist-packages/sklearn/linear_model/_ridge.py:188: LinAlgWarning: Ill-conditioned matrix (rcond=1.01916e-19): result may not be accurate.\n",
            "  overwrite_a=False)\n",
            "/usr/local/lib/python3.7/dist-packages/sklearn/linear_model/_ridge.py:188: LinAlgWarning: Ill-conditioned matrix (rcond=4.33493e-19): result may not be accurate.\n",
            "  overwrite_a=False)\n",
            "/usr/local/lib/python3.7/dist-packages/sklearn/linear_model/_ridge.py:188: LinAlgWarning: Ill-conditioned matrix (rcond=1.98889e-19): result may not be accurate.\n",
            "  overwrite_a=False)\n",
            "/usr/local/lib/python3.7/dist-packages/sklearn/linear_model/_ridge.py:190: UserWarning: Singular matrix in solving dual problem. Using least-squares solution instead.\n",
            "  warnings.warn(\"Singular matrix in solving dual problem. Using \"\n",
            "/usr/local/lib/python3.7/dist-packages/sklearn/linear_model/_ridge.py:190: UserWarning: Singular matrix in solving dual problem. Using least-squares solution instead.\n",
            "  warnings.warn(\"Singular matrix in solving dual problem. Using \"\n",
            "/usr/local/lib/python3.7/dist-packages/sklearn/linear_model/_ridge.py:190: UserWarning: Singular matrix in solving dual problem. Using least-squares solution instead.\n",
            "  warnings.warn(\"Singular matrix in solving dual problem. Using \"\n",
            "/usr/local/lib/python3.7/dist-packages/sklearn/linear_model/_ridge.py:190: UserWarning: Singular matrix in solving dual problem. Using least-squares solution instead.\n",
            "  warnings.warn(\"Singular matrix in solving dual problem. Using \"\n",
            "/usr/local/lib/python3.7/dist-packages/sklearn/linear_model/_ridge.py:188: LinAlgWarning: Ill-conditioned matrix (rcond=3.31218e-20): result may not be accurate.\n",
            "  overwrite_a=False)\n",
            "/usr/local/lib/python3.7/dist-packages/sklearn/linear_model/_ridge.py:190: UserWarning: Singular matrix in solving dual problem. Using least-squares solution instead.\n",
            "  warnings.warn(\"Singular matrix in solving dual problem. Using \"\n"
          ],
          "name": "stderr"
        },
        {
          "output_type": "execute_result",
          "data": {
            "text/plain": [
              "GridSearchCV(cv=5, error_score=nan,\n",
              "             estimator=Pipeline(memory=None,\n",
              "                                steps=[('polynomial',\n",
              "                                        PolynomialFeatures(degree=2,\n",
              "                                                           include_bias=True,\n",
              "                                                           interaction_only=False,\n",
              "                                                           order='C')),\n",
              "                                       ('model',\n",
              "                                        Ridge(alpha=1.0, copy_X=True,\n",
              "                                              fit_intercept=True, max_iter=None,\n",
              "                                              normalize=False,\n",
              "                                              random_state=None, solver='auto',\n",
              "                                              tol=0.001))],\n",
              "                                verbose=False),\n",
              "             iid='deprecated', n_jobs=None,\n",
              "             param_grid={'model__alpha': [1, 0.1, 0.01, 0.001, 0.0001, 0],\n",
              "                         'polynomial__degree': [1, 2, 3, 4, 5, 6, 7, 8, 9, 10]},\n",
              "             pre_dispatch='2*n_jobs', refit=True, return_train_score=True,\n",
              "             scoring='neg_mean_squared_error', verbose=0)"
            ]
          },
          "metadata": {
            "tags": []
          },
          "execution_count": 56
        }
      ]
    },
    {
      "cell_type": "code",
      "metadata": {
        "id": "ahBQMBY0yI6h",
        "colab": {
          "base_uri": "https://localhost:8080/"
        },
        "outputId": "0b644ba1-f214-426d-891b-a700ef7fcbee"
      },
      "source": [
        "grid.best_estimator_"
      ],
      "execution_count": 57,
      "outputs": [
        {
          "output_type": "execute_result",
          "data": {
            "text/plain": [
              "Pipeline(memory=None,\n",
              "         steps=[('polynomial',\n",
              "                 PolynomialFeatures(degree=6, include_bias=True,\n",
              "                                    interaction_only=False, order='C')),\n",
              "                ('model',\n",
              "                 Ridge(alpha=0.0001, copy_X=True, fit_intercept=True,\n",
              "                       max_iter=None, normalize=False, random_state=None,\n",
              "                       solver='auto', tol=0.001))],\n",
              "         verbose=False)"
            ]
          },
          "metadata": {
            "tags": []
          },
          "execution_count": 57
        }
      ]
    },
    {
      "cell_type": "code",
      "metadata": {
        "id": "EnKYFAlFyI6h"
      },
      "source": [
        "def plot_grid_search(cv_results, grid_param_1, grid_param_2, name_param_1, name_param_2):\n",
        "    # Get Test Scores Mean and std for each grid search\n",
        "    scores_mean = cv_results['mean_test_score']\n",
        "    scores_mean = np.array(scores_mean).reshape(len(grid_param_2),len(grid_param_1))\n",
        "\n",
        "    scores_sd = cv_results['std_test_score']\n",
        "    scores_sd = np.array(scores_sd).reshape(len(grid_param_2),len(grid_param_1))\n",
        "\n",
        "    # Plot Grid search scores\n",
        "    _, ax = plt.subplots(1,1)\n",
        "\n",
        "    # Param1 is the X-axis, Param 2 is represented as a different curve (color line)\n",
        "    for idx, val in enumerate(grid_param_2):\n",
        "        ax.plot(grid_param_1, scores_mean[idx,:], '-o', label= name_param_2 + ': ' + str(val))\n",
        "\n",
        "    ax.set_title(\"Grid Search Scores\", fontsize=20, fontweight='bold')\n",
        "    ax.set_xlabel(name_param_1, fontsize=16)\n",
        "    ax.set_ylabel('CV Average Score', fontsize=16)\n",
        "    ax.legend(loc=\"best\", fontsize=15)\n",
        "    ax.grid('on')"
      ],
      "execution_count": 58,
      "outputs": []
    },
    {
      "cell_type": "code",
      "metadata": {
        "id": "a3gTEqv4yI6i",
        "colab": {
          "base_uri": "https://localhost:8080/",
          "height": 305
        },
        "outputId": "13eb952a-af8f-4a17-caf4-91594de2a70e"
      },
      "source": [
        "# Calling Method \n",
        "plot_grid_search(grid.cv_results_,degree,alpha, 'degree', 'alpha')"
      ],
      "execution_count": 59,
      "outputs": [
        {
          "output_type": "display_data",
          "data": {
            "image/png": "[encoded data removed]",
            "text/plain": [
              "<Figure size 432x288 with 1 Axes>"
            ]
          },
          "metadata": {
            "tags": [],
            "needs_background": "light"
          }
        }
      ]
    },
    {
      "cell_type": "markdown",
      "metadata": {
        "id": "nAC2socU7CX8"
      },
      "source": [
        "Optimum degree is 2 and alpha is 0 after grid search."
      ]
    },
    {
      "cell_type": "code",
      "metadata": {
        "id": "pm5KDQlByI6i"
      },
      "source": [
        "Input=[('polynomial',PolynomialFeatures()),('model',Ridge(alpha=0))]\n",
        "pipe=Pipeline(Input)"
      ],
      "execution_count": 60,
      "outputs": []
    },
    {
      "cell_type": "code",
      "metadata": {
        "id": "hBe1OipmyI6i",
        "colab": {
          "base_uri": "https://localhost:8080/"
        },
        "outputId": "66f15634-2d2f-403c-9630-429c862634b6"
      },
      "source": [
        "mse_test=[]\n",
        "mse_train=[]\n",
        "for d in degree:\n",
        "    Input=[('polynomial',PolynomialFeatures(degree=d)),('model',Ridge(alpha=0))]\n",
        "    pipe=Pipeline(Input)\n",
        "    pipe.fit(x_train,y_train)\n",
        "    y_pred_train=pipe.predict(x_train)\n",
        "    mse_temp_train=mean_squared_error(y_pred_train,y_train)\n",
        "    mse_train.append(mse_temp_train)\n",
        "    y_pred_test=pipe.predict(x_test)\n",
        "    mse_temp_test=mean_squared_error(y_pred_test,y_test)\n",
        "    mse_test.append(mse_temp_test)"
      ],
      "execution_count": 61,
      "outputs": [
        {
          "output_type": "stream",
          "text": [
            "/usr/local/lib/python3.7/dist-packages/sklearn/linear_model/_ridge.py:188: LinAlgWarning: Ill-conditioned matrix (rcond=3.47094e-19): result may not be accurate.\n",
            "  overwrite_a=False)\n",
            "/usr/local/lib/python3.7/dist-packages/sklearn/linear_model/_ridge.py:190: UserWarning: Singular matrix in solving dual problem. Using least-squares solution instead.\n",
            "  warnings.warn(\"Singular matrix in solving dual problem. Using \"\n",
            "/usr/local/lib/python3.7/dist-packages/sklearn/linear_model/_ridge.py:190: UserWarning: Singular matrix in solving dual problem. Using least-squares solution instead.\n",
            "  warnings.warn(\"Singular matrix in solving dual problem. Using \"\n",
            "/usr/local/lib/python3.7/dist-packages/sklearn/linear_model/_ridge.py:190: UserWarning: Singular matrix in solving dual problem. Using least-squares solution instead.\n",
            "  warnings.warn(\"Singular matrix in solving dual problem. Using \"\n"
          ],
          "name": "stderr"
        }
      ]
    },
    {
      "cell_type": "code",
      "metadata": {
        "id": "ZbyZyHvMyI6j",
        "colab": {
          "base_uri": "https://localhost:8080/",
          "height": 265
        },
        "outputId": "1fd54ac6-74c7-4f1c-8445-76e9f946ddfe"
      },
      "source": [
        "plt.plot(degree,mse_train,label='Jtrain',color='b',linewidth=3)\n",
        "plt.plot(degree,mse_test,label='Jtest',color='r',linestyle='--',linewidth=3)\n",
        "plt.legend()\n",
        "plt.show()"
      ],
      "execution_count": 62,
      "outputs": [
        {
          "output_type": "display_data",
          "data": {
            "image/png": "[encoded data removed]",
            "text/plain": [
              "<Figure size 432x288 with 1 Axes>"
            ]
          },
          "metadata": {
            "tags": [],
            "needs_background": "light"
          }
        }
      ]
    },
    {
      "cell_type": "code",
      "metadata": {
        "id": "aCJ0wNS6yI6j"
      },
      "source": [
        "x_train_a,x_test,y_train_a,y_test=train_test_split(x_data,y_data,test_size=0.25,random_state=0)"
      ],
      "execution_count": 63,
      "outputs": []
    },
    {
      "cell_type": "code",
      "metadata": {
        "id": "Qob_3mN5yI6j"
      },
      "source": [
        "\n",
        "data=[1600-0.75*1600,1600-0.5*1600,1600-0.25*1600,1599]\n"
      ],
      "execution_count": 64,
      "outputs": []
    },
    {
      "cell_type": "code",
      "metadata": {
        "id": "RsJwViiF_knn"
      },
      "source": [
        "mse_test=[]\n",
        "mse_train=[]\n",
        "test=[0.75,0.5,0.25,0.10]\n",
        "for t in test:\n",
        "    x_train,x_t,y_train,y_t=train_test_split(x_train_a,y_train_a,test_size=t,random_state=0)\n",
        "    Input=[('polynomial',PolynomialFeatures(degree=3)),('model',Ridge(alpha=0))]\n",
        "    pipe=Pipeline(Input)\n",
        "    pipe.fit(x_train,y_train)\n",
        "    y_pred_train=pipe.predict(x_train)\n",
        "    mse_temp_train=mean_squared_error(y_pred_train,y_train)\n",
        "    mse_train.append(mse_temp_train)\n",
        "    y_pred_test=pipe.predict(x_test)\n",
        "    mse_temp_test=mean_squared_error(y_pred_test,y_test)\n",
        "    mse_test.append(mse_temp_test)"
      ],
      "execution_count": 65,
      "outputs": []
    },
    {
      "cell_type": "code",
      "metadata": {
        "colab": {
          "base_uri": "https://localhost:8080/",
          "height": 276
        },
        "id": "ePVZU21vAEit",
        "outputId": "d57869a9-4692-4e50-e04c-8619ec81c2ae"
      },
      "source": [
        "plt.plot(data,mse_train,label='Jtrain',color='b',linewidth=3)\n",
        "plt.plot(data,mse_test,label='Jtest',color='r',linestyle='--',linewidth=3)\n",
        "plt.legend()\n",
        "plt.show()"
      ],
      "execution_count": 66,
      "outputs": [
        {
          "output_type": "display_data",
          "data": {
            "image/png": "[encoded data removed]",
            "text/plain": [
              "<Figure size 432x288 with 1 Axes>"
            ]
          },
          "metadata": {
            "tags": [],
            "needs_background": "light"
          }
        }
      ]
    },
    {
      "cell_type": "code",
      "metadata": {
        "id": "QYxwyiXHAtpI"
      },
      "source": [
        "mse_test=[]\n",
        "mse_train=[]\n",
        "for a in alpha:\n",
        "    Input=[('polynomial',PolynomialFeatures(degree=2)),('model',Ridge(alpha=a))]\n",
        "    pipe=Pipeline(Input)\n",
        "    pipe.fit(x_train,y_train)\n",
        "    y_pred_train=pipe.predict(x_train)\n",
        "    mse_temp_train=mean_squared_error(y_pred_train,y_train)\n",
        "    mse_train.append(mse_temp_train)\n",
        "    y_pred_test=pipe.predict(x_test)\n",
        "    mse_temp_test=mean_squared_error(y_pred_test,y_test)\n",
        "    mse_test.append(mse_temp_test)"
      ],
      "execution_count": 67,
      "outputs": []
    },
    {
      "cell_type": "code",
      "metadata": {
        "colab": {
          "base_uri": "https://localhost:8080/",
          "height": 279
        },
        "id": "3wEideyPBI1J",
        "outputId": "079c8a2a-b03c-4045-dbc6-ab3a5dbda2d2"
      },
      "source": [
        "plt.plot(alpha,mse_train,label='Jtrain',color='b',linewidth=3)\n",
        "plt.plot(alpha,mse_test,label='Jtest',color='r',linestyle='--',linewidth=3)\n",
        "plt.legend()\n",
        "plt.xlabel('Regularization Parameter (\\u03BB)')\n",
        "plt.ylabel('Cost Function Value')\n",
        "plt.show()"
      ],
      "execution_count": 68,
      "outputs": [
        {
          "output_type": "display_data",
          "data": {
            "image/png": "[encoded data removed]",
            "text/plain": [
              "<Figure size 432x288 with 1 Axes>"
            ]
          },
          "metadata": {
            "tags": [],
            "needs_background": "light"
          }
        }
      ]
    },
    {
      "cell_type": "code",
      "metadata": {
        "colab": {
          "base_uri": "https://localhost:8080/"
        },
        "id": "0k6MD1hBBeFk",
        "outputId": "cfc5ae0f-729a-4e73-d228-9e46845c8209"
      },
      "source": [
        "Input=[('polynomial',PolynomialFeatures(degree=2)),('model',Ridge(alpha=0))]\n",
        "pipe=Pipeline(Input)\n",
        "pipe.fit(x_train,y_train)"
      ],
      "execution_count": 69,
      "outputs": [
        {
          "output_type": "execute_result",
          "data": {
            "text/plain": [
              "Pipeline(memory=None,\n",
              "         steps=[('polynomial',\n",
              "                 PolynomialFeatures(degree=2, include_bias=True,\n",
              "                                    interaction_only=False, order='C')),\n",
              "                ('model',\n",
              "                 Ridge(alpha=0, copy_X=True, fit_intercept=True, max_iter=None,\n",
              "                       normalize=False, random_state=None, solver='auto',\n",
              "                       tol=0.001))],\n",
              "         verbose=False)"
            ]
          },
          "metadata": {
            "tags": []
          },
          "execution_count": 69
        }
      ]
    },
    {
      "cell_type": "code",
      "metadata": {
        "id": "ogjSelVzBtFM"
      },
      "source": [
        "y_pred=pipe.predict(x_test)"
      ],
      "execution_count": 70,
      "outputs": []
    },
    {
      "cell_type": "code",
      "metadata": {
        "colab": {
          "base_uri": "https://localhost:8080/",
          "height": 410
        },
        "id": "oy7_AP8jBz2X",
        "outputId": "809863d3-53d2-49b9-f4e2-b7764d53dfbf"
      },
      "source": [
        "\n",
        "fig, ax = plt.subplots(figsize=(6,6))\n",
        "ax.scatter(y_test, y_pred, c='red',label='Surrogate model')\n",
        "ax.plot(y_test,y_test, color='blue', linewidth=2,label='Reference line')\n",
        "ax.legend()\n",
        "ax.plot()\n",
        "ax.set_xlabel(\"Actual $M_{R}$ of Slab\")\n",
        "ax.set_ylabel(\"Y_pred\")\n",
        "ax.set_title(\"Predicted $M_{R}$ of Slab\")\n",
        "R_square=r2_score(y_test,y_pred)\n",
        "textstr = r'$\\mathrm{R_2}=%.4f$' % (R_square)\n",
        "                                    \n",
        "props = dict(boxstyle='round', facecolor='wheat', alpha=0.5)\n",
        "ax.text(0.25, 0.25, textstr, transform=ax.transAxes, fontsize=14,verticalalignment='top',bbox=props)\n",
        "plt.show()"
      ],
      "execution_count": 72,
      "outputs": [
        {
          "output_type": "display_data",
          "data": {
            "image/png": "[encoded data removed]",
            "text/plain": [
              "<Figure size 432x432 with 1 Axes>"
            ]
          },
          "metadata": {
            "tags": [],
            "needs_background": "light"
          }
        }
      ]
    },
    {
      "cell_type": "code",
      "metadata": {
        "id": "ye9rknY3CgUI"
      },
      "source": [
        ""
      ],
      "execution_count": null,
      "outputs": []
    }
  ]
}