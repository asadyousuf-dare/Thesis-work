{
  "nbformat": 4,
  "nbformat_minor": 0,
  "metadata": {
    "colab": {
      "name": "ann_regression.ipynb",
      "provenance": [],
      "mount_file_id": "1BQ-rQ80TdUzwP_8dtuO1ZZBX1dKvXqeK",
      "authorship_tag": "ABX9TyOdvbzhBMSOxTPLK3cdiaTq",
      "include_colab_link": true
    },
    "kernelspec": {
      "name": "python3",
      "display_name": "Python 3"
    },
    "language_info": {
      "name": "python"
    }
  },
  "cells": [
    {
      "cell_type": "markdown",
      "metadata": {
        "id": "view-in-github",
        "colab_type": "text"
      },
      "source": [
        "<a href=\"https://colab.research.google.com/github/asadyousuf-dare/Thesis-work/blob/main/ann_regression.ipynb\" target=\"_parent\"><img src=\"https://colab.research.google.com/assets/colab-badge.svg\" alt=\"Open In Colab\"/></a>"
      ]
    },
    {
      "cell_type": "code",
      "execution_count": 1,
      "metadata": {
        "colab": {
          "base_uri": "https://localhost:8080/"
        },
        "id": "TnAEc6_zkOMj",
        "outputId": "e468899d-6243-4f21-e2ed-8e209db9c69e"
      },
      "outputs": [
        {
          "output_type": "stream",
          "name": "stdout",
          "text": [
            "/content/drive/MyDrive/ANN_data\n"
          ]
        }
      ],
      "source": [
        "%cd /content/drive/MyDrive/ANN_data"
      ]
    },
    {
      "cell_type": "code",
      "source": [
        "import numpy as np\n",
        "import pandas as pd\n",
        "import sklearn\n",
        "import seaborn as sn\n",
        "import matplotlib.pyplot as plt\n",
        "from numpy import percentile\n",
        "from scipy.stats import spearmanr\n",
        "from sklearn.metrics import r2_score\n",
        "from sklearn.metrics import mean_squared_error\n",
        "from sklearn.metrics import mean_absolute_error\n",
        "from scipy.stats import kendalltau\n",
        "from sklearn.model_selection import train_test_split\n",
        "from sklearn.preprocessing import StandardScaler"
      ],
      "metadata": {
        "id": "B3hJ7Uo2ke18"
      },
      "execution_count": 2,
      "outputs": []
    },
    {
      "cell_type": "code",
      "source": [
        "train_input=pd.read_excel('/content/drive/MyDrive/ANN_data/LearningVariables.xlsx',sheet_name='X_tr')\n",
        "train_output=pd.read_excel('LearningY.xlsx',sheet_name='X_tr')\n",
        "test_input=pd.read_excel('LearningVariables.xlsx',sheet_name='X_cv')\n",
        "test_output=pd.read_excel('LearningY.xlsx',sheet_name='X_cv')"
      ],
      "metadata": {
        "id": "MB4fpVYlknTo"
      },
      "execution_count": 3,
      "outputs": []
    },
    {
      "cell_type": "code",
      "source": [
        "train_data=pd.concat([train_input, train_output], axis=1)\n",
        "test_data=pd.concat([test_input, test_output], axis=1)"
      ],
      "metadata": {
        "id": "uqjI_yr6kttZ"
      },
      "execution_count": 4,
      "outputs": []
    },
    {
      "cell_type": "code",
      "source": [
        "train_data.describe()"
      ],
      "metadata": {
        "colab": {
          "base_uri": "https://localhost:8080/",
          "height": 300
        },
        "id": "CoeLa3mKk54e",
        "outputId": "44b8933a-81ba-4bf2-a8ea-f817b8b1b67d"
      },
      "execution_count": 5,
      "outputs": [
        {
          "output_type": "execute_result",
          "data": {
            "text/plain": [
              "              fc20         fy20        cover       depth         area  \\\n",
              "count  2000.000000  2000.000000  2000.000000  2000.00000  2000.000000   \n",
              "mean     47.500000   550.000000     0.046000     0.22000     0.000325   \n",
              "std      18.768574   259.872565     0.011550     0.04620     0.000130   \n",
              "min      15.016250   100.225000     0.026010     0.14004     0.000100   \n",
              "25%      31.258125   325.112500     0.036005     0.18002     0.000213   \n",
              "50%      47.500000   550.000000     0.046000     0.22000     0.000325   \n",
              "75%      63.741875   774.887500     0.055995     0.25998     0.000437   \n",
              "max      79.983750   999.775000     0.065990     0.29996     0.000550   \n",
              "\n",
              "                  MR  \n",
              "count    2000.000000  \n",
              "mean    30446.721576  \n",
              "std     21724.283119  \n",
              "min      1711.026896  \n",
              "25%     13627.997255  \n",
              "50%     24974.084774  \n",
              "75%     42073.281317  \n",
              "max    120039.686055  "
            ],
            "text/html": [
              "\n",
              "  <div id=\"df-d222b3dd-bc08-4744-a530-5a369c78841e\">\n",
              "    <div class=\"colab-df-container\">\n",
              "      <div>\n",
              "<style scoped>\n",
              "    .dataframe tbody tr th:only-of-type {\n",
              "        vertical-align: middle;\n",
              "    }\n",
              "\n",
              "    .dataframe tbody tr th {\n",
              "        vertical-align: top;\n",
              "    }\n",
              "\n",
              "    .dataframe thead th {\n",
              "        text-align: right;\n",
              "    }\n",
              "</style>\n",
              "<table border=\"1\" class=\"dataframe\">\n",
              "  <thead>\n",
              "    <tr style=\"text-align: right;\">\n",
              "      <th></th>\n",
              "      <th>fc20</th>\n",
              "      <th>fy20</th>\n",
              "      <th>cover</th>\n",
              "      <th>depth</th>\n",
              "      <th>area</th>\n",
              "      <th>MR</th>\n",
              "    </tr>\n",
              "  </thead>\n",
              "  <tbody>\n",
              "    <tr>\n",
              "      <th>count</th>\n",
              "      <td>2000.000000</td>\n",
              "      <td>2000.000000</td>\n",
              "      <td>2000.000000</td>\n",
              "      <td>2000.00000</td>\n",
              "      <td>2000.000000</td>\n",
              "      <td>2000.000000</td>\n",
              "    </tr>\n",
              "    <tr>\n",
              "      <th>mean</th>\n",
              "      <td>47.500000</td>\n",
              "      <td>550.000000</td>\n",
              "      <td>0.046000</td>\n",
              "      <td>0.22000</td>\n",
              "      <td>0.000325</td>\n",
              "      <td>30446.721576</td>\n",
              "    </tr>\n",
              "    <tr>\n",
              "      <th>std</th>\n",
              "      <td>18.768574</td>\n",
              "      <td>259.872565</td>\n",
              "      <td>0.011550</td>\n",
              "      <td>0.04620</td>\n",
              "      <td>0.000130</td>\n",
              "      <td>21724.283119</td>\n",
              "    </tr>\n",
              "    <tr>\n",
              "      <th>min</th>\n",
              "      <td>15.016250</td>\n",
              "      <td>100.225000</td>\n",
              "      <td>0.026010</td>\n",
              "      <td>0.14004</td>\n",
              "      <td>0.000100</td>\n",
              "      <td>1711.026896</td>\n",
              "    </tr>\n",
              "    <tr>\n",
              "      <th>25%</th>\n",
              "      <td>31.258125</td>\n",
              "      <td>325.112500</td>\n",
              "      <td>0.036005</td>\n",
              "      <td>0.18002</td>\n",
              "      <td>0.000213</td>\n",
              "      <td>13627.997255</td>\n",
              "    </tr>\n",
              "    <tr>\n",
              "      <th>50%</th>\n",
              "      <td>47.500000</td>\n",
              "      <td>550.000000</td>\n",
              "      <td>0.046000</td>\n",
              "      <td>0.22000</td>\n",
              "      <td>0.000325</td>\n",
              "      <td>24974.084774</td>\n",
              "    </tr>\n",
              "    <tr>\n",
              "      <th>75%</th>\n",
              "      <td>63.741875</td>\n",
              "      <td>774.887500</td>\n",
              "      <td>0.055995</td>\n",
              "      <td>0.25998</td>\n",
              "      <td>0.000437</td>\n",
              "      <td>42073.281317</td>\n",
              "    </tr>\n",
              "    <tr>\n",
              "      <th>max</th>\n",
              "      <td>79.983750</td>\n",
              "      <td>999.775000</td>\n",
              "      <td>0.065990</td>\n",
              "      <td>0.29996</td>\n",
              "      <td>0.000550</td>\n",
              "      <td>120039.686055</td>\n",
              "    </tr>\n",
              "  </tbody>\n",
              "</table>\n",
              "</div>\n",
              "      <button class=\"colab-df-convert\" onclick=\"convertToInteractive('df-d222b3dd-bc08-4744-a530-5a369c78841e')\"\n",
              "              title=\"Convert this dataframe to an interactive table.\"\n",
              "              style=\"display:none;\">\n",
              "        \n",
              "  <svg xmlns=\"http://www.w3.org/2000/svg\" height=\"24px\"viewBox=\"0 0 24 24\"\n",
              "       width=\"24px\">\n",
              "    <path d=\"M0 0h24v24H0V0z\" fill=\"none\"/>\n",
              "    <path d=\"M18.56 5.44l.94 2.06.94-2.06 2.06-.94-2.06-.94-.94-2.06-.94 2.06-2.06.94zm-11 1L8.5 8.5l.94-2.06 2.06-.94-2.06-.94L8.5 2.5l-.94 2.06-2.06.94zm10 10l.94 2.06.94-2.06 2.06-.94-2.06-.94-.94-2.06-.94 2.06-2.06.94z\"/><path d=\"M17.41 7.96l-1.37-1.37c-.4-.4-.92-.59-1.43-.59-.52 0-1.04.2-1.43.59L10.3 9.45l-7.72 7.72c-.78.78-.78 2.05 0 2.83L4 21.41c.39.39.9.59 1.41.59.51 0 1.02-.2 1.41-.59l7.78-7.78 2.81-2.81c.8-.78.8-2.07 0-2.86zM5.41 20L4 18.59l7.72-7.72 1.47 1.35L5.41 20z\"/>\n",
              "  </svg>\n",
              "      </button>\n",
              "      \n",
              "  <style>\n",
              "    .colab-df-container {\n",
              "      display:flex;\n",
              "      flex-wrap:wrap;\n",
              "      gap: 12px;\n",
              "    }\n",
              "\n",
              "    .colab-df-convert {\n",
              "      background-color: #E8F0FE;\n",
              "      border: none;\n",
              "      border-radius: 50%;\n",
              "      cursor: pointer;\n",
              "      display: none;\n",
              "      fill: #1967D2;\n",
              "      height: 32px;\n",
              "      padding: 0 0 0 0;\n",
              "      width: 32px;\n",
              "    }\n",
              "\n",
              "    .colab-df-convert:hover {\n",
              "      background-color: #E2EBFA;\n",
              "      box-shadow: 0px 1px 2px rgba(60, 64, 67, 0.3), 0px 1px 3px 1px rgba(60, 64, 67, 0.15);\n",
              "      fill: #174EA6;\n",
              "    }\n",
              "\n",
              "    [theme=dark] .colab-df-convert {\n",
              "      background-color: #3B4455;\n",
              "      fill: #D2E3FC;\n",
              "    }\n",
              "\n",
              "    [theme=dark] .colab-df-convert:hover {\n",
              "      background-color: #434B5C;\n",
              "      box-shadow: 0px 1px 3px 1px rgba(0, 0, 0, 0.15);\n",
              "      filter: drop-shadow(0px 1px 2px rgba(0, 0, 0, 0.3));\n",
              "      fill: #FFFFFF;\n",
              "    }\n",
              "  </style>\n",
              "\n",
              "      <script>\n",
              "        const buttonEl =\n",
              "          document.querySelector('#df-d222b3dd-bc08-4744-a530-5a369c78841e button.colab-df-convert');\n",
              "        buttonEl.style.display =\n",
              "          google.colab.kernel.accessAllowed ? 'block' : 'none';\n",
              "\n",
              "        async function convertToInteractive(key) {\n",
              "          const element = document.querySelector('#df-d222b3dd-bc08-4744-a530-5a369c78841e');\n",
              "          const dataTable =\n",
              "            await google.colab.kernel.invokeFunction('convertToInteractive',\n",
              "                                                     [key], {});\n",
              "          if (!dataTable) return;\n",
              "\n",
              "          const docLinkHtml = 'Like what you see? Visit the ' +\n",
              "            '<a target=\"_blank\" href=https://colab.research.google.com/notebooks/data_table.ipynb>data table notebook</a>'\n",
              "            + ' to learn more about interactive tables.';\n",
              "          element.innerHTML = '';\n",
              "          dataTable['output_type'] = 'display_data';\n",
              "          await google.colab.output.renderOutput(dataTable, element);\n",
              "          const docLink = document.createElement('div');\n",
              "          docLink.innerHTML = docLinkHtml;\n",
              "          element.appendChild(docLink);\n",
              "        }\n",
              "      </script>\n",
              "    </div>\n",
              "  </div>\n",
              "  "
            ]
          },
          "metadata": {},
          "execution_count": 5
        }
      ]
    },
    {
      "cell_type": "code",
      "source": [
        "test_data.describe()"
      ],
      "metadata": {
        "colab": {
          "base_uri": "https://localhost:8080/",
          "height": 300
        },
        "id": "ilRRVeWBlD9e",
        "outputId": "00d87dcc-72db-49c5-c1c6-c81ffadedccd"
      },
      "execution_count": 6,
      "outputs": [
        {
          "output_type": "execute_result",
          "data": {
            "text/plain": [
              "             fc20        fy20       cover       depth        area  \\\n",
              "count  400.000000  400.000000  400.000000  400.000000  400.000000   \n",
              "mean    47.500000  550.000000    0.046000    0.220000    0.000325   \n",
              "std     18.787324  260.132178    0.011561    0.046246    0.000130   \n",
              "min     15.081250  101.125000    0.026050    0.140200    0.000101   \n",
              "25%     31.290625  325.562500    0.036025    0.180100    0.000213   \n",
              "50%     47.500000  550.000000    0.046000    0.220000    0.000325   \n",
              "75%     63.709375  774.437500    0.055975    0.259900    0.000437   \n",
              "max     79.918750  998.875000    0.065950    0.299800    0.000549   \n",
              "\n",
              "                  MR  \n",
              "count     400.000000  \n",
              "mean    30464.458575  \n",
              "std     21686.007869  \n",
              "min      1598.289580  \n",
              "25%     13691.639381  \n",
              "50%     24672.182000  \n",
              "75%     42821.698241  \n",
              "max    123983.604146  "
            ],
            "text/html": [
              "\n",
              "  <div id=\"df-50b32017-ffd0-43cf-bdb9-05c69df4d7e8\">\n",
              "    <div class=\"colab-df-container\">\n",
              "      <div>\n",
              "<style scoped>\n",
              "    .dataframe tbody tr th:only-of-type {\n",
              "        vertical-align: middle;\n",
              "    }\n",
              "\n",
              "    .dataframe tbody tr th {\n",
              "        vertical-align: top;\n",
              "    }\n",
              "\n",
              "    .dataframe thead th {\n",
              "        text-align: right;\n",
              "    }\n",
              "</style>\n",
              "<table border=\"1\" class=\"dataframe\">\n",
              "  <thead>\n",
              "    <tr style=\"text-align: right;\">\n",
              "      <th></th>\n",
              "      <th>fc20</th>\n",
              "      <th>fy20</th>\n",
              "      <th>cover</th>\n",
              "      <th>depth</th>\n",
              "      <th>area</th>\n",
              "      <th>MR</th>\n",
              "    </tr>\n",
              "  </thead>\n",
              "  <tbody>\n",
              "    <tr>\n",
              "      <th>count</th>\n",
              "      <td>400.000000</td>\n",
              "      <td>400.000000</td>\n",
              "      <td>400.000000</td>\n",
              "      <td>400.000000</td>\n",
              "      <td>400.000000</td>\n",
              "      <td>400.000000</td>\n",
              "    </tr>\n",
              "    <tr>\n",
              "      <th>mean</th>\n",
              "      <td>47.500000</td>\n",
              "      <td>550.000000</td>\n",
              "      <td>0.046000</td>\n",
              "      <td>0.220000</td>\n",
              "      <td>0.000325</td>\n",
              "      <td>30464.458575</td>\n",
              "    </tr>\n",
              "    <tr>\n",
              "      <th>std</th>\n",
              "      <td>18.787324</td>\n",
              "      <td>260.132178</td>\n",
              "      <td>0.011561</td>\n",
              "      <td>0.046246</td>\n",
              "      <td>0.000130</td>\n",
              "      <td>21686.007869</td>\n",
              "    </tr>\n",
              "    <tr>\n",
              "      <th>min</th>\n",
              "      <td>15.081250</td>\n",
              "      <td>101.125000</td>\n",
              "      <td>0.026050</td>\n",
              "      <td>0.140200</td>\n",
              "      <td>0.000101</td>\n",
              "      <td>1598.289580</td>\n",
              "    </tr>\n",
              "    <tr>\n",
              "      <th>25%</th>\n",
              "      <td>31.290625</td>\n",
              "      <td>325.562500</td>\n",
              "      <td>0.036025</td>\n",
              "      <td>0.180100</td>\n",
              "      <td>0.000213</td>\n",
              "      <td>13691.639381</td>\n",
              "    </tr>\n",
              "    <tr>\n",
              "      <th>50%</th>\n",
              "      <td>47.500000</td>\n",
              "      <td>550.000000</td>\n",
              "      <td>0.046000</td>\n",
              "      <td>0.220000</td>\n",
              "      <td>0.000325</td>\n",
              "      <td>24672.182000</td>\n",
              "    </tr>\n",
              "    <tr>\n",
              "      <th>75%</th>\n",
              "      <td>63.709375</td>\n",
              "      <td>774.437500</td>\n",
              "      <td>0.055975</td>\n",
              "      <td>0.259900</td>\n",
              "      <td>0.000437</td>\n",
              "      <td>42821.698241</td>\n",
              "    </tr>\n",
              "    <tr>\n",
              "      <th>max</th>\n",
              "      <td>79.918750</td>\n",
              "      <td>998.875000</td>\n",
              "      <td>0.065950</td>\n",
              "      <td>0.299800</td>\n",
              "      <td>0.000549</td>\n",
              "      <td>123983.604146</td>\n",
              "    </tr>\n",
              "  </tbody>\n",
              "</table>\n",
              "</div>\n",
              "      <button class=\"colab-df-convert\" onclick=\"convertToInteractive('df-50b32017-ffd0-43cf-bdb9-05c69df4d7e8')\"\n",
              "              title=\"Convert this dataframe to an interactive table.\"\n",
              "              style=\"display:none;\">\n",
              "        \n",
              "  <svg xmlns=\"http://www.w3.org/2000/svg\" height=\"24px\"viewBox=\"0 0 24 24\"\n",
              "       width=\"24px\">\n",
              "    <path d=\"M0 0h24v24H0V0z\" fill=\"none\"/>\n",
              "    <path d=\"M18.56 5.44l.94 2.06.94-2.06 2.06-.94-2.06-.94-.94-2.06-.94 2.06-2.06.94zm-11 1L8.5 8.5l.94-2.06 2.06-.94-2.06-.94L8.5 2.5l-.94 2.06-2.06.94zm10 10l.94 2.06.94-2.06 2.06-.94-2.06-.94-.94-2.06-.94 2.06-2.06.94z\"/><path d=\"M17.41 7.96l-1.37-1.37c-.4-.4-.92-.59-1.43-.59-.52 0-1.04.2-1.43.59L10.3 9.45l-7.72 7.72c-.78.78-.78 2.05 0 2.83L4 21.41c.39.39.9.59 1.41.59.51 0 1.02-.2 1.41-.59l7.78-7.78 2.81-2.81c.8-.78.8-2.07 0-2.86zM5.41 20L4 18.59l7.72-7.72 1.47 1.35L5.41 20z\"/>\n",
              "  </svg>\n",
              "      </button>\n",
              "      \n",
              "  <style>\n",
              "    .colab-df-container {\n",
              "      display:flex;\n",
              "      flex-wrap:wrap;\n",
              "      gap: 12px;\n",
              "    }\n",
              "\n",
              "    .colab-df-convert {\n",
              "      background-color: #E8F0FE;\n",
              "      border: none;\n",
              "      border-radius: 50%;\n",
              "      cursor: pointer;\n",
              "      display: none;\n",
              "      fill: #1967D2;\n",
              "      height: 32px;\n",
              "      padding: 0 0 0 0;\n",
              "      width: 32px;\n",
              "    }\n",
              "\n",
              "    .colab-df-convert:hover {\n",
              "      background-color: #E2EBFA;\n",
              "      box-shadow: 0px 1px 2px rgba(60, 64, 67, 0.3), 0px 1px 3px 1px rgba(60, 64, 67, 0.15);\n",
              "      fill: #174EA6;\n",
              "    }\n",
              "\n",
              "    [theme=dark] .colab-df-convert {\n",
              "      background-color: #3B4455;\n",
              "      fill: #D2E3FC;\n",
              "    }\n",
              "\n",
              "    [theme=dark] .colab-df-convert:hover {\n",
              "      background-color: #434B5C;\n",
              "      box-shadow: 0px 1px 3px 1px rgba(0, 0, 0, 0.15);\n",
              "      filter: drop-shadow(0px 1px 2px rgba(0, 0, 0, 0.3));\n",
              "      fill: #FFFFFF;\n",
              "    }\n",
              "  </style>\n",
              "\n",
              "      <script>\n",
              "        const buttonEl =\n",
              "          document.querySelector('#df-50b32017-ffd0-43cf-bdb9-05c69df4d7e8 button.colab-df-convert');\n",
              "        buttonEl.style.display =\n",
              "          google.colab.kernel.accessAllowed ? 'block' : 'none';\n",
              "\n",
              "        async function convertToInteractive(key) {\n",
              "          const element = document.querySelector('#df-50b32017-ffd0-43cf-bdb9-05c69df4d7e8');\n",
              "          const dataTable =\n",
              "            await google.colab.kernel.invokeFunction('convertToInteractive',\n",
              "                                                     [key], {});\n",
              "          if (!dataTable) return;\n",
              "\n",
              "          const docLinkHtml = 'Like what you see? Visit the ' +\n",
              "            '<a target=\"_blank\" href=https://colab.research.google.com/notebooks/data_table.ipynb>data table notebook</a>'\n",
              "            + ' to learn more about interactive tables.';\n",
              "          element.innerHTML = '';\n",
              "          dataTable['output_type'] = 'display_data';\n",
              "          await google.colab.output.renderOutput(dataTable, element);\n",
              "          const docLink = document.createElement('div');\n",
              "          docLink.innerHTML = docLinkHtml;\n",
              "          element.appendChild(docLink);\n",
              "        }\n",
              "      </script>\n",
              "    </div>\n",
              "  </div>\n",
              "  "
            ]
          },
          "metadata": {},
          "execution_count": 6
        }
      ]
    },
    {
      "cell_type": "code",
      "source": [
        "print(\"Shape of features train data\",train_input.shape)\n",
        "print(\"Shape of Prediction or Y train data\",train_output.shape)\n",
        "print(\"Shape of features test data\",test_input.shape)\n",
        "print(\"Shape of Prediction or Y test data\",test_output.shape)"
      ],
      "metadata": {
        "colab": {
          "base_uri": "https://localhost:8080/"
        },
        "id": "WttwbazDlY-N",
        "outputId": "c38977eb-517d-40a5-df5a-bddd5b911e75"
      },
      "execution_count": 7,
      "outputs": [
        {
          "output_type": "stream",
          "name": "stdout",
          "text": [
            "Shape of features train data (2000, 5)\n",
            "Shape of Prediction or Y train data (2000, 1)\n",
            "Shape of features test data (400, 5)\n",
            "Shape of Prediction or Y test data (400, 1)\n"
          ]
        }
      ]
    },
    {
      "cell_type": "code",
      "source": [
        "X_train=train_input.values\n",
        "Y_train=train_output.values/1000\n",
        "X_test=test_input.values\n",
        "Y_test=test_output.values/1000"
      ],
      "metadata": {
        "id": "32HTv2gEmQV3"
      },
      "execution_count": 11,
      "outputs": []
    },
    {
      "cell_type": "code",
      "source": [
        "sc_X = StandardScaler()\n",
        "X_train = sc_X.fit_transform(X_train)\n",
        "X_test = sc_X.transform(X_test)"
      ],
      "metadata": {
        "id": "mk6zefZ2maqe"
      },
      "execution_count": 10,
      "outputs": []
    },
    {
      "cell_type": "code",
      "source": [
        ""
      ],
      "metadata": {
        "id": "RY1EDz9ampQQ"
      },
      "execution_count": null,
      "outputs": []
    },
    {
      "cell_type": "markdown",
      "source": [
        "neural network"
      ],
      "metadata": {
        "id": "CaKgVtHUm8mI"
      }
    },
    {
      "cell_type": "code",
      "source": [
        "from sklearn.neural_network  import MLPRegressor"
      ],
      "metadata": {
        "id": "50qnD_ycm_L8"
      },
      "execution_count": 12,
      "outputs": []
    },
    {
      "cell_type": "code",
      "source": [
        "MLP_regressor = MLPRegressor(max_iter=10000)\n",
        "MLP_regressor.fit(X_train,Y_train)"
      ],
      "metadata": {
        "colab": {
          "base_uri": "https://localhost:8080/"
        },
        "id": "cDHykX1SnEtf",
        "outputId": "a064d06c-70b6-48b7-a111-621d85adc44b"
      },
      "execution_count": 17,
      "outputs": [
        {
          "output_type": "stream",
          "name": "stderr",
          "text": [
            "/usr/local/lib/python3.7/dist-packages/sklearn/neural_network/_multilayer_perceptron.py:1599: DataConversionWarning: A column-vector y was passed when a 1d array was expected. Please change the shape of y to (n_samples, ), for example using ravel().\n",
            "  y = column_or_1d(y, warn=True)\n"
          ]
        },
        {
          "output_type": "execute_result",
          "data": {
            "text/plain": [
              "MLPRegressor(max_iter=10000)"
            ]
          },
          "metadata": {},
          "execution_count": 17
        }
      ]
    },
    {
      "cell_type": "code",
      "source": [
        "Y_pred=MLP_regressor.predict(X_test)"
      ],
      "metadata": {
        "id": "Yvb9SPmQnYU1"
      },
      "execution_count": 18,
      "outputs": []
    },
    {
      "cell_type": "code",
      "source": [
        "# Metrics\n",
        "R_square=r2_score(Y_test,Y_pred)\n",
        "rmse=np.sqrt(mean_squared_error(Y_pred,Y_test))\n",
        "mae=mean_absolute_error(Y_pred,Y_test)"
      ],
      "metadata": {
        "id": "dwb8iD3rndL7"
      },
      "execution_count": 19,
      "outputs": []
    },
    {
      "cell_type": "code",
      "source": [
        "print(\"The computed root mean squared error is = \",rmse)\n",
        "print(\"The computed mean absolute error is = \",mae)\n",
        "print(\"The r2 measure for the model is = \",R_square)"
      ],
      "metadata": {
        "colab": {
          "base_uri": "https://localhost:8080/"
        },
        "id": "SJoZRqqXnlNU",
        "outputId": "2e9ac514-f9f6-46a3-be43-efd074360394"
      },
      "execution_count": 20,
      "outputs": [
        {
          "output_type": "stream",
          "name": "stdout",
          "text": [
            "The computed root mean squared error is =  16.78412827136639\n",
            "The computed mean absolute error is =  12.510000970725187\n",
            "The r2 measure for the model is =  0.39948279657871866\n"
          ]
        }
      ]
    }
  ]
}