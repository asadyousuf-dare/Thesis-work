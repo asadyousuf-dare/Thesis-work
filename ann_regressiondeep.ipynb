{
  "nbformat": 4,
  "nbformat_minor": 0,
  "metadata": {
    "colab": {
      "name": "ann_regressiondeep.ipynb",
      "provenance": [],
      "mount_file_id": "1MlHJJ8xud0_LQEaGz1MFg5SdSQjmPZFA",
      "authorship_tag": "ABX9TyNCuEZ/pnDlKz4r9N1LOvZX",
      "include_colab_link": true
    },
    "kernelspec": {
      "name": "python3",
      "display_name": "Python 3"
    },
    "language_info": {
      "name": "python"
    }
  },
  "cells": [
    {
      "cell_type": "markdown",
      "metadata": {
        "id": "view-in-github",
        "colab_type": "text"
      },
      "source": [
        "<a href=\"https://colab.research.google.com/github/asadyousuf-dare/Thesis-work/blob/main/ann_regressiondeep.ipynb\" target=\"_parent\"><img src=\"https://colab.research.google.com/assets/colab-badge.svg\" alt=\"Open In Colab\"/></a>"
      ]
    },
    {
      "cell_type": "code",
      "execution_count": 2,
      "metadata": {
        "colab": {
          "base_uri": "https://localhost:8080/"
        },
        "id": "1OJP3G6QEbuS",
        "outputId": "49b395f0-20bf-4f93-b6ad-b6e22ab1e3b1"
      },
      "outputs": [
        {
          "output_type": "stream",
          "name": "stdout",
          "text": [
            "\u001b[0m\u001b[01;34mdrive\u001b[0m/  \u001b[01;34msample_data\u001b[0m/\n"
          ]
        }
      ],
      "source": [
        "% ls"
      ]
    },
    {
      "cell_type": "code",
      "source": [
        "from sklearn.model_selection import train_test_split\n",
        "from sklearn.preprocessing import StandardScaler\n",
        "import pandas as pd\n",
        "\n"
      ],
      "metadata": {
        "id": "UNHuTFtSE0XC"
      },
      "execution_count": 3,
      "outputs": []
    },
    {
      "cell_type": "code",
      "source": [
        "data = pd.read_excel('/content/drive/MyDrive/slab/ann_slab/train_data.xlsx')"
      ],
      "metadata": {
        "id": "jl9_pc_mF_ar"
      },
      "execution_count": 4,
      "outputs": []
    },
    {
      "cell_type": "code",
      "source": [
        "test = pd.read_excel('/content/drive/MyDrive/slab/ann_slab/test_data.xlsx')"
      ],
      "metadata": {
        "id": "IsCHWYDHFAG5"
      },
      "execution_count": 5,
      "outputs": []
    },
    {
      "cell_type": "code",
      "source": [
        "data_target = pd.read_excel(\"/content/drive/MyDrive/slab/ann_slab/train_target.xlsx\")"
      ],
      "metadata": {
        "id": "HsIkfMm3G6nh"
      },
      "execution_count": 6,
      "outputs": []
    },
    {
      "cell_type": "code",
      "source": [
        "test_target = pd.read_excel(\"/content/drive/MyDrive/slab/ann_slab/test_target.xlsx\")"
      ],
      "metadata": {
        "id": "a579waYIHEBf"
      },
      "execution_count": 7,
      "outputs": []
    },
    {
      "cell_type": "code",
      "source": [
        "mean = data.mean(axis = 0)"
      ],
      "metadata": {
        "id": "Sy_PN3IGZN-c"
      },
      "execution_count": 8,
      "outputs": []
    },
    {
      "cell_type": "code",
      "source": [
        "data -= mean"
      ],
      "metadata": {
        "id": "nFFq3MzaZjl2"
      },
      "execution_count": 11,
      "outputs": []
    },
    {
      "cell_type": "code",
      "source": [
        "std = data.std(axis = 0)"
      ],
      "metadata": {
        "id": "n2nwaW5dZ3pb"
      },
      "execution_count": 12,
      "outputs": []
    },
    {
      "cell_type": "code",
      "source": [
        "data /= std"
      ],
      "metadata": {
        "id": "w3vDcn49ZrX8"
      },
      "execution_count": 13,
      "outputs": []
    },
    {
      "cell_type": "code",
      "source": [
        "test -= mean"
      ],
      "metadata": {
        "id": "SKsZhvThaJfT"
      },
      "execution_count": 14,
      "outputs": []
    },
    {
      "cell_type": "code",
      "source": [
        "test /= std"
      ],
      "metadata": {
        "id": "zi2y1uBraTIO"
      },
      "execution_count": 15,
      "outputs": []
    },
    {
      "cell_type": "code",
      "source": [
        "from tensorflow import keras\n",
        "from tensorflow.keras import layers"
      ],
      "metadata": {
        "id": "aYzU43g1djlZ"
      },
      "execution_count": 24,
      "outputs": []
    },
    {
      "cell_type": "code",
      "source": [
        "def build_model():\n",
        " model = keras.Sequential([ \n",
        " layers.Dense(64, activation=\"relu\"),\n",
        " layers.Dense(64, activation=\"relu\"),\n",
        " layers.Dense(1)\n",
        " ])\n",
        " model.compile(optimizer=\"rmsprop\", loss=\"mse\", metrics=[\"mae\"])\n",
        " return model"
      ],
      "metadata": {
        "id": "-vo8WIDwaYL3"
      },
      "execution_count": 25,
      "outputs": []
    },
    {
      "cell_type": "code",
      "source": [
        "model = build_model() "
      ],
      "metadata": {
        "id": "u2CrGNupdfvH"
      },
      "execution_count": 26,
      "outputs": []
    },
    {
      "cell_type": "code",
      "source": [
        "x_val = data [:500]"
      ],
      "metadata": {
        "id": "UmFAYSdjatTH"
      },
      "execution_count": 17,
      "outputs": []
    },
    {
      "cell_type": "code",
      "source": [
        "partial_x_train = data[500:] "
      ],
      "metadata": {
        "id": "9Tv162WvbtIF"
      },
      "execution_count": 18,
      "outputs": []
    },
    {
      "cell_type": "code",
      "source": [
        "y_val = data_target [:500]"
      ],
      "metadata": {
        "id": "uWjKBh3Ab7WL"
      },
      "execution_count": 19,
      "outputs": []
    },
    {
      "cell_type": "code",
      "source": [
        "partial_y_target = data_target[500:]"
      ],
      "metadata": {
        "id": "FMrWiKqVcJt2"
      },
      "execution_count": 20,
      "outputs": []
    },
    {
      "cell_type": "code",
      "source": [
        "history = model.fit (partial_x_train,partial_y_target,epochs = 100,batch_size = 100,validation_data = (x_val,y_val))"
      ],
      "metadata": {
        "colab": {
          "base_uri": "https://localhost:8080/"
        },
        "id": "pwNjDvkWcUI3",
        "outputId": "4ec17a57-687f-4905-d65f-cc30dbc52da5"
      },
      "execution_count": 27,
      "outputs": [
        {
          "output_type": "stream",
          "name": "stdout",
          "text": [
            "Epoch 1/100\n",
            "15/15 [==============================] - 1s 15ms/step - loss: 1350217728.0000 - mae: 29847.8125 - val_loss: 1543854080.0000 - val_mae: 32238.0918\n",
            "Epoch 2/100\n",
            "15/15 [==============================] - 0s 4ms/step - loss: 1350094848.0000 - mae: 29845.8477 - val_loss: 1543698816.0000 - val_mae: 32235.8887\n",
            "Epoch 3/100\n",
            "15/15 [==============================] - 0s 4ms/step - loss: 1349926528.0000 - mae: 29843.3555 - val_loss: 1543486080.0000 - val_mae: 32233.0156\n",
            "Epoch 4/100\n",
            "15/15 [==============================] - 0s 4ms/step - loss: 1349704704.0000 - mae: 29840.1836 - val_loss: 1543210752.0000 - val_mae: 32229.4238\n",
            "Epoch 5/100\n",
            "15/15 [==============================] - 0s 5ms/step - loss: 1349418368.0000 - mae: 29836.2383 - val_loss: 1542857600.0000 - val_mae: 32224.9434\n",
            "Epoch 6/100\n",
            "15/15 [==============================] - 0s 4ms/step - loss: 1349063040.0000 - mae: 29831.4219 - val_loss: 1542427008.0000 - val_mae: 32219.6016\n",
            "Epoch 7/100\n",
            "15/15 [==============================] - 0s 4ms/step - loss: 1348628992.0000 - mae: 29825.7324 - val_loss: 1541899392.0000 - val_mae: 32213.1836\n",
            "Epoch 8/100\n",
            "15/15 [==============================] - 0s 5ms/step - loss: 1348107904.0000 - mae: 29818.9844 - val_loss: 1541273088.0000 - val_mae: 32205.6777\n",
            "Epoch 9/100\n",
            "15/15 [==============================] - 0s 4ms/step - loss: 1347495168.0000 - mae: 29811.1738 - val_loss: 1540537472.0000 - val_mae: 32196.9883\n",
            "Epoch 10/100\n",
            "15/15 [==============================] - 0s 4ms/step - loss: 1346776832.0000 - mae: 29802.2129 - val_loss: 1539683072.0000 - val_mae: 32187.0391\n",
            "Epoch 11/100\n",
            "15/15 [==============================] - 0s 4ms/step - loss: 1345955584.0000 - mae: 29792.0586 - val_loss: 1538705920.0000 - val_mae: 32175.7988\n",
            "Epoch 12/100\n",
            "15/15 [==============================] - 0s 5ms/step - loss: 1345024896.0000 - mae: 29780.6641 - val_loss: 1537605248.0000 - val_mae: 32163.2500\n",
            "Epoch 13/100\n",
            "15/15 [==============================] - 0s 4ms/step - loss: 1343973632.0000 - mae: 29767.9277 - val_loss: 1536367488.0000 - val_mae: 32149.2598\n",
            "Epoch 14/100\n",
            "15/15 [==============================] - 0s 5ms/step - loss: 1342784000.0000 - mae: 29753.7930 - val_loss: 1534947328.0000 - val_mae: 32133.3809\n",
            "Epoch 15/100\n",
            "15/15 [==============================] - 0s 4ms/step - loss: 1341441664.0000 - mae: 29737.8906 - val_loss: 1533393280.0000 - val_mae: 32116.0488\n",
            "Epoch 16/100\n",
            "15/15 [==============================] - 0s 4ms/step - loss: 1339992192.0000 - mae: 29720.6504 - val_loss: 1531677568.0000 - val_mae: 32097.0332\n",
            "Epoch 17/100\n",
            "15/15 [==============================] - 0s 4ms/step - loss: 1338364928.0000 - mae: 29701.5996 - val_loss: 1529767296.0000 - val_mae: 32076.0312\n",
            "Epoch 18/100\n",
            "15/15 [==============================] - 0s 4ms/step - loss: 1336567936.0000 - mae: 29680.6738 - val_loss: 1527660160.0000 - val_mae: 32053.0371\n",
            "Epoch 19/100\n",
            "15/15 [==============================] - 0s 4ms/step - loss: 1334644224.0000 - mae: 29658.2480 - val_loss: 1525422464.0000 - val_mae: 32028.6582\n",
            "Epoch 20/100\n",
            "15/15 [==============================] - 0s 5ms/step - loss: 1332519680.0000 - mae: 29633.9141 - val_loss: 1522932864.0000 - val_mae: 32001.6719\n",
            "Epoch 21/100\n",
            "15/15 [==============================] - 0s 4ms/step - loss: 1330201984.0000 - mae: 29607.3770 - val_loss: 1520224128.0000 - val_mae: 31972.4199\n",
            "Epoch 22/100\n",
            "15/15 [==============================] - 0s 4ms/step - loss: 1327723136.0000 - mae: 29578.8672 - val_loss: 1517353856.0000 - val_mae: 31941.4941\n",
            "Epoch 23/100\n",
            "15/15 [==============================] - 0s 4ms/step - loss: 1325062016.0000 - mae: 29548.5234 - val_loss: 1514237440.0000 - val_mae: 31908.0605\n",
            "Epoch 24/100\n",
            "15/15 [==============================] - 0s 4ms/step - loss: 1322171904.0000 - mae: 29515.7656 - val_loss: 1510851200.0000 - val_mae: 31871.8301\n",
            "Epoch 25/100\n",
            "15/15 [==============================] - 0s 4ms/step - loss: 1319032576.0000 - mae: 29480.6719 - val_loss: 1507199104.0000 - val_mae: 31832.8301\n",
            "Epoch 26/100\n",
            "15/15 [==============================] - 0s 4ms/step - loss: 1315744128.0000 - mae: 29443.1836 - val_loss: 1503407360.0000 - val_mae: 31792.3555\n",
            "Epoch 27/100\n",
            "15/15 [==============================] - 0s 4ms/step - loss: 1312265856.0000 - mae: 29403.7500 - val_loss: 1499350400.0000 - val_mae: 31749.1504\n",
            "Epoch 28/100\n",
            "15/15 [==============================] - 0s 4ms/step - loss: 1308522496.0000 - mae: 29361.6855 - val_loss: 1494989952.0000 - val_mae: 31702.7285\n",
            "Epoch 29/100\n",
            "15/15 [==============================] - 0s 4ms/step - loss: 1304586368.0000 - mae: 29317.1973 - val_loss: 1490433664.0000 - val_mae: 31654.2676\n",
            "Epoch 30/100\n",
            "15/15 [==============================] - 0s 5ms/step - loss: 1300359168.0000 - mae: 29270.3848 - val_loss: 1485463680.0000 - val_mae: 31601.6191\n",
            "Epoch 31/100\n",
            "15/15 [==============================] - 0s 3ms/step - loss: 1295914752.0000 - mae: 29220.1660 - val_loss: 1480365952.0000 - val_mae: 31547.4395\n",
            "Epoch 32/100\n",
            "15/15 [==============================] - 0s 4ms/step - loss: 1291221248.0000 - mae: 29167.7754 - val_loss: 1474876672.0000 - val_mae: 31489.0723\n",
            "Epoch 33/100\n",
            "15/15 [==============================] - 0s 4ms/step - loss: 1286279040.0000 - mae: 29111.9922 - val_loss: 1469164416.0000 - val_mae: 31428.3926\n",
            "Epoch 34/100\n",
            "15/15 [==============================] - 0s 3ms/step - loss: 1281078272.0000 - mae: 29053.7441 - val_loss: 1463076224.0000 - val_mae: 31363.7832\n",
            "Epoch 35/100\n",
            "15/15 [==============================] - 0s 3ms/step - loss: 1275568896.0000 - mae: 28991.8555 - val_loss: 1456737664.0000 - val_mae: 31296.4082\n",
            "Epoch 36/100\n",
            "15/15 [==============================] - 0s 3ms/step - loss: 1269890816.0000 - mae: 28927.9258 - val_loss: 1450174848.0000 - val_mae: 31226.4883\n",
            "Epoch 37/100\n",
            "15/15 [==============================] - 0s 5ms/step - loss: 1263866624.0000 - mae: 28860.8418 - val_loss: 1443134720.0000 - val_mae: 31151.5273\n",
            "Epoch 38/100\n",
            "15/15 [==============================] - 0s 4ms/step - loss: 1257468032.0000 - mae: 28789.3633 - val_loss: 1435712768.0000 - val_mae: 31072.4180\n",
            "Epoch 39/100\n",
            "15/15 [==============================] - 0s 4ms/step - loss: 1250847104.0000 - mae: 28715.0000 - val_loss: 1428113280.0000 - val_mae: 30991.1719\n",
            "Epoch 40/100\n",
            "15/15 [==============================] - 0s 4ms/step - loss: 1244049920.0000 - mae: 28637.6211 - val_loss: 1420270720.0000 - val_mae: 30907.1582\n",
            "Epoch 41/100\n",
            "15/15 [==============================] - 0s 5ms/step - loss: 1236932480.0000 - mae: 28557.0879 - val_loss: 1412051712.0000 - val_mae: 30819.1406\n",
            "Epoch 42/100\n",
            "15/15 [==============================] - 0s 5ms/step - loss: 1229444992.0000 - mae: 28473.2559 - val_loss: 1403236608.0000 - val_mae: 30724.6387\n",
            "Epoch 43/100\n",
            "15/15 [==============================] - 0s 4ms/step - loss: 1221632256.0000 - mae: 28384.8809 - val_loss: 1394321152.0000 - val_mae: 30628.6953\n",
            "Epoch 44/100\n",
            "15/15 [==============================] - 0s 5ms/step - loss: 1213603712.0000 - mae: 28293.3223 - val_loss: 1385036800.0000 - val_mae: 30528.5293\n",
            "Epoch 45/100\n",
            "15/15 [==============================] - 0s 4ms/step - loss: 1205300224.0000 - mae: 28198.6191 - val_loss: 1375418368.0000 - val_mae: 30424.4395\n",
            "Epoch 46/100\n",
            "15/15 [==============================] - 0s 4ms/step - loss: 1196688256.0000 - mae: 28100.1152 - val_loss: 1365436416.0000 - val_mae: 30316.1484\n",
            "Epoch 47/100\n",
            "15/15 [==============================] - 0s 5ms/step - loss: 1187631360.0000 - mae: 27997.2695 - val_loss: 1354967424.0000 - val_mae: 30202.4766\n",
            "Epoch 48/100\n",
            "15/15 [==============================] - 0s 5ms/step - loss: 1178337792.0000 - mae: 27890.4082 - val_loss: 1344193664.0000 - val_mae: 30084.9512\n",
            "Epoch 49/100\n",
            "15/15 [==============================] - 0s 4ms/step - loss: 1168605184.0000 - mae: 27779.5996 - val_loss: 1332936192.0000 - val_mae: 29961.8008\n",
            "Epoch 50/100\n",
            "15/15 [==============================] - 0s 4ms/step - loss: 1158691968.0000 - mae: 27663.6699 - val_loss: 1321605504.0000 - val_mae: 29836.9707\n",
            "Epoch 51/100\n",
            "15/15 [==============================] - 0s 4ms/step - loss: 1148473600.0000 - mae: 27545.4004 - val_loss: 1309760512.0000 - val_mae: 29706.5156\n",
            "Epoch 52/100\n",
            "15/15 [==============================] - 0s 5ms/step - loss: 1137829888.0000 - mae: 27422.7168 - val_loss: 1297388544.0000 - val_mae: 29569.6953\n",
            "Epoch 53/100\n",
            "15/15 [==============================] - 0s 4ms/step - loss: 1126814208.0000 - mae: 27294.2617 - val_loss: 1284683392.0000 - val_mae: 29428.5645\n",
            "Epoch 54/100\n",
            "15/15 [==============================] - 0s 4ms/step - loss: 1115465600.0000 - mae: 27161.7227 - val_loss: 1271621504.0000 - val_mae: 29282.6719\n",
            "Epoch 55/100\n",
            "15/15 [==============================] - 0s 5ms/step - loss: 1103952896.0000 - mae: 27025.7754 - val_loss: 1258412288.0000 - val_mae: 29134.5723\n",
            "Epoch 56/100\n",
            "15/15 [==============================] - 0s 4ms/step - loss: 1092060928.0000 - mae: 26885.1094 - val_loss: 1244582272.0000 - val_mae: 28978.6465\n",
            "Epoch 57/100\n",
            "15/15 [==============================] - 0s 4ms/step - loss: 1079759104.0000 - mae: 26739.4023 - val_loss: 1230431744.0000 - val_mae: 28818.3008\n",
            "Epoch 58/100\n",
            "15/15 [==============================] - 0s 3ms/step - loss: 1067138496.0000 - mae: 26589.3887 - val_loss: 1215824128.0000 - val_mae: 28651.9609\n",
            "Epoch 59/100\n",
            "15/15 [==============================] - 0s 4ms/step - loss: 1054224128.0000 - mae: 26433.7070 - val_loss: 1200995840.0000 - val_mae: 28481.5254\n",
            "Epoch 60/100\n",
            "15/15 [==============================] - 0s 3ms/step - loss: 1041089664.0000 - mae: 26274.4609 - val_loss: 1185872128.0000 - val_mae: 28306.9844\n",
            "Epoch 61/100\n",
            "15/15 [==============================] - 0s 4ms/step - loss: 1027552320.0000 - mae: 26111.3867 - val_loss: 1170108672.0000 - val_mae: 28124.4355\n",
            "Epoch 62/100\n",
            "15/15 [==============================] - 0s 4ms/step - loss: 1013886848.0000 - mae: 25942.3789 - val_loss: 1154546176.0000 - val_mae: 27942.6152\n",
            "Epoch 63/100\n",
            "15/15 [==============================] - 0s 4ms/step - loss: 999843968.0000 - mae: 25769.3066 - val_loss: 1138285440.0000 - val_mae: 27751.3320\n",
            "Epoch 64/100\n",
            "15/15 [==============================] - 0s 3ms/step - loss: 985521472.0000 - mae: 25591.7324 - val_loss: 1121706624.0000 - val_mae: 27554.7754\n",
            "Epoch 65/100\n",
            "15/15 [==============================] - 0s 4ms/step - loss: 970730432.0000 - mae: 25407.2402 - val_loss: 1104680704.0000 - val_mae: 27351.1328\n",
            "Epoch 66/100\n",
            "15/15 [==============================] - 0s 4ms/step - loss: 955811712.0000 - mae: 25217.2793 - val_loss: 1087597824.0000 - val_mae: 27144.6797\n",
            "Epoch 67/100\n",
            "15/15 [==============================] - 0s 4ms/step - loss: 940458368.0000 - mae: 25023.9004 - val_loss: 1069769920.0000 - val_mae: 26928.2441\n",
            "Epoch 68/100\n",
            "15/15 [==============================] - 0s 5ms/step - loss: 924733248.0000 - mae: 24822.9629 - val_loss: 1051701568.0000 - val_mae: 26706.8770\n",
            "Epoch 69/100\n",
            "15/15 [==============================] - 0s 4ms/step - loss: 908972288.0000 - mae: 24616.2793 - val_loss: 1033672576.0000 - val_mae: 26483.9727\n",
            "Epoch 70/100\n",
            "15/15 [==============================] - 0s 5ms/step - loss: 892821504.0000 - mae: 24407.1602 - val_loss: 1014875648.0000 - val_mae: 26249.8848\n",
            "Epoch 71/100\n",
            "15/15 [==============================] - 0s 5ms/step - loss: 876438592.0000 - mae: 24189.6543 - val_loss: 996033216.0000 - val_mae: 26012.4043\n",
            "Epoch 72/100\n",
            "15/15 [==============================] - 0s 4ms/step - loss: 859529536.0000 - mae: 23968.1309 - val_loss: 976566784.0000 - val_mae: 25764.7207\n",
            "Epoch 73/100\n",
            "15/15 [==============================] - 0s 4ms/step - loss: 842671232.0000 - mae: 23738.8965 - val_loss: 957221824.0000 - val_mae: 25515.9141\n",
            "Epoch 74/100\n",
            "15/15 [==============================] - 0s 4ms/step - loss: 825381184.0000 - mae: 23506.0215 - val_loss: 937313408.0000 - val_mae: 25257.0879\n",
            "Epoch 75/100\n",
            "15/15 [==============================] - 0s 5ms/step - loss: 808182464.0000 - mae: 23266.0000 - val_loss: 917605440.0000 - val_mae: 24997.9902\n",
            "Epoch 76/100\n",
            "15/15 [==============================] - 0s 4ms/step - loss: 790706688.0000 - mae: 23022.2832 - val_loss: 897335360.0000 - val_mae: 24728.9570\n",
            "Epoch 77/100\n",
            "15/15 [==============================] - 0s 5ms/step - loss: 772785600.0000 - mae: 22770.8965 - val_loss: 876586944.0000 - val_mae: 24450.1191\n",
            "Epoch 78/100\n",
            "15/15 [==============================] - 0s 3ms/step - loss: 754648640.0000 - mae: 22512.2051 - val_loss: 855702336.0000 - val_mae: 24166.0723\n",
            "Epoch 79/100\n",
            "15/15 [==============================] - 0s 5ms/step - loss: 736332672.0000 - mae: 22250.5039 - val_loss: 834800576.0000 - val_mae: 23878.6328\n",
            "Epoch 80/100\n",
            "15/15 [==============================] - 0s 4ms/step - loss: 717914496.0000 - mae: 21982.6406 - val_loss: 813504768.0000 - val_mae: 23581.2559\n",
            "Epoch 81/100\n",
            "15/15 [==============================] - 0s 3ms/step - loss: 699256512.0000 - mae: 21707.1465 - val_loss: 791986048.0000 - val_mae: 23276.8965\n",
            "Epoch 82/100\n",
            "15/15 [==============================] - 0s 4ms/step - loss: 680758720.0000 - mae: 21426.3867 - val_loss: 770687360.0000 - val_mae: 22970.5117\n",
            "Epoch 83/100\n",
            "15/15 [==============================] - 0s 4ms/step - loss: 661742656.0000 - mae: 21140.4922 - val_loss: 748671616.0000 - val_mae: 22649.6523\n",
            "Epoch 84/100\n",
            "15/15 [==============================] - 0s 4ms/step - loss: 642821376.0000 - mae: 20846.3027 - val_loss: 727186816.0000 - val_mae: 22331.1484\n",
            "Epoch 85/100\n",
            "15/15 [==============================] - 0s 4ms/step - loss: 623930240.0000 - mae: 20548.3457 - val_loss: 705236672.0000 - val_mae: 22000.3574\n",
            "Epoch 86/100\n",
            "15/15 [==============================] - 0s 4ms/step - loss: 604635328.0000 - mae: 20241.6074 - val_loss: 682954304.0000 - val_mae: 21659.6738\n",
            "Epoch 87/100\n",
            "15/15 [==============================] - 0s 4ms/step - loss: 585307200.0000 - mae: 19928.7500 - val_loss: 660788608.0000 - val_mae: 21315.3711\n",
            "Epoch 88/100\n",
            "15/15 [==============================] - 0s 5ms/step - loss: 566304704.0000 - mae: 19610.9668 - val_loss: 638891456.0000 - val_mae: 20968.5137\n",
            "Epoch 89/100\n",
            "15/15 [==============================] - 0s 5ms/step - loss: 546888320.0000 - mae: 19289.6035 - val_loss: 616398208.0000 - val_mae: 20606.0781\n",
            "Epoch 90/100\n",
            "15/15 [==============================] - 0s 3ms/step - loss: 527337088.0000 - mae: 18957.0234 - val_loss: 593922560.0000 - val_mae: 20239.1797\n",
            "Epoch 91/100\n",
            "15/15 [==============================] - 0s 5ms/step - loss: 508292160.0000 - mae: 18621.9492 - val_loss: 572155904.0000 - val_mae: 19875.2520\n",
            "Epoch 92/100\n",
            "15/15 [==============================] - 0s 4ms/step - loss: 489199360.0000 - mae: 18282.5488 - val_loss: 550027264.0000 - val_mae: 19498.3438\n",
            "Epoch 93/100\n",
            "15/15 [==============================] - 0s 4ms/step - loss: 469956224.0000 - mae: 17936.2285 - val_loss: 527834272.0000 - val_mae: 19112.1406\n",
            "Epoch 94/100\n",
            "15/15 [==============================] - 0s 3ms/step - loss: 450767936.0000 - mae: 17581.3926 - val_loss: 505618784.0000 - val_mae: 18717.3848\n",
            "Epoch 95/100\n",
            "15/15 [==============================] - 0s 5ms/step - loss: 431665568.0000 - mae: 17219.0859 - val_loss: 483711008.0000 - val_mae: 18319.2637\n",
            "Epoch 96/100\n",
            "15/15 [==============================] - 0s 4ms/step - loss: 412872832.0000 - mae: 16856.1777 - val_loss: 462134368.0000 - val_mae: 17915.9570\n",
            "Epoch 97/100\n",
            "15/15 [==============================] - 0s 5ms/step - loss: 394055168.0000 - mae: 16484.4941 - val_loss: 440392416.0000 - val_mae: 17499.7402\n",
            "Epoch 98/100\n",
            "15/15 [==============================] - 0s 4ms/step - loss: 375744544.0000 - mae: 16105.5518 - val_loss: 419363424.0000 - val_mae: 17086.9043\n",
            "Epoch 99/100\n",
            "15/15 [==============================] - 0s 3ms/step - loss: 357376288.0000 - mae: 15723.7998 - val_loss: 398088736.0000 - val_mae: 16660.7012\n",
            "Epoch 100/100\n",
            "15/15 [==============================] - 0s 4ms/step - loss: 338826272.0000 - mae: 15334.7881 - val_loss: 376524832.0000 - val_mae: 16217.0850\n"
          ]
        }
      ]
    },
    {
      "cell_type": "code",
      "source": [
        "history_dict = history.history"
      ],
      "metadata": {
        "id": "I5H_vczHeA5b"
      },
      "execution_count": 28,
      "outputs": []
    },
    {
      "cell_type": "code",
      "source": [
        "history_dict.keys ()"
      ],
      "metadata": {
        "colab": {
          "base_uri": "https://localhost:8080/"
        },
        "id": "Ve9VRkOmeNYZ",
        "outputId": "99dbda3e-9777-45ac-ca02-e83a3c0db2c8"
      },
      "execution_count": 29,
      "outputs": [
        {
          "output_type": "execute_result",
          "data": {
            "text/plain": [
              "dict_keys(['loss', 'mae', 'val_loss', 'val_mae'])"
            ]
          },
          "metadata": {},
          "execution_count": 29
        }
      ]
    },
    {
      "cell_type": "code",
      "source": [
        "import matplotlib.pyplot as plt\n"
      ],
      "metadata": {
        "id": "YGIwIQhWepAR"
      },
      "execution_count": 30,
      "outputs": []
    },
    {
      "cell_type": "code",
      "source": [
        "loss = history.history[\"loss\"]\n",
        "val_loss = history.history[\"val_loss\"]\n",
        "epochs = range(1, len(loss) + 1)\n",
        "plt.plot(epochs, loss, \"bo\", label=\"Training loss\")\n",
        "plt.plot(epochs, val_loss, \"b\", label=\"Validation loss\")\n",
        "plt.title(\"Training and validation loss\")\n",
        "plt.xlabel(\"Epochs\")\n",
        "plt.ylabel(\"Loss\")\n",
        "plt.legend()\n",
        "plt.show()\n"
      ],
      "metadata": {
        "colab": {
          "base_uri": "https://localhost:8080/",
          "height": 295
        },
        "id": "uaxp72WEeSAa",
        "outputId": "9758e19a-b66e-4552-bfe0-13c5e570e66d"
      },
      "execution_count": 31,
      "outputs": [
        {
          "output_type": "display_data",
          "data": {
            "text/plain": [
              "<Figure size 432x288 with 1 Axes>"
            ],
            "image/png": "[encoded data removed]"
          },
          "metadata": {
            "needs_background": "light"
          }
        }
      ]
    },
    {
      "cell_type": "code",
      "source": [
        "acc = history.history[\"mae\"]\n",
        "val_acc = history.history[\"val_mae\"]\n",
        "plt.plot(epochs, acc, \"bo\", label=\"Training accuracy\")\n",
        "plt.plot(epochs, val_acc, \"b\", label=\"Validation accuracy\")\n",
        "plt.title(\"Training and validation accuracy\")\n",
        "plt.xlabel(\"Epochs\")\n",
        "plt.ylabel(\"Accuracy\")\n",
        "plt.legend()\n",
        "plt.show()"
      ],
      "metadata": {
        "colab": {
          "base_uri": "https://localhost:8080/",
          "height": 295
        },
        "id": "X_kbT6aXfDTc",
        "outputId": "c3e95207-2d66-457a-ee97-509f7ce30f5d"
      },
      "execution_count": 32,
      "outputs": [
        {
          "output_type": "display_data",
          "data": {
            "text/plain": [
              "<Figure size 432x288 with 1 Axes>"
            ],
            "image/png": "[encoded data removed]"
          },
          "metadata": {
            "needs_background": "light"
          }
        }
      ]
    },
    {
      "cell_type": "code",
      "source": [
        ""
      ],
      "metadata": {
        "id": "S9lCJR6GfaeD"
      },
      "execution_count": null,
      "outputs": []
    }
  ]
}