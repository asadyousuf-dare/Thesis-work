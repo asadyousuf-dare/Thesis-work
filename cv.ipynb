{
  "cells": [
    {
      "cell_type": "markdown",
      "metadata": {
        "id": "view-in-github",
        "colab_type": "text"
      },
      "source": [
        "<a href=\"https://colab.research.google.com/github/asadyousuf-dare/Thesis-work/blob/main/cv.ipynb\" target=\"_parent\"><img src=\"https://colab.research.google.com/assets/colab-badge.svg\" alt=\"Open In Colab\"/></a>"
      ]
    },
    {
      "cell_type": "code",
      "source": [
        "from google.colab import drive\n",
        "drive.mount('/content/drive')"
      ],
      "metadata": {
        "colab": {
          "base_uri": "https://localhost:8080/"
        },
        "id": "aXQ7iurq7uba",
        "outputId": "f9e91ca4-5a30-42a9-8974-db3119cfb3d0"
      },
      "execution_count": 1,
      "outputs": [
        {
          "output_type": "stream",
          "name": "stdout",
          "text": [
            "Mounted at /content/drive\n"
          ]
        }
      ]
    },
    {
      "cell_type": "code",
      "source": [
        "%cd /content/drive/MyDrive/cv/Training Dataset"
      ],
      "metadata": {
        "colab": {
          "base_uri": "https://localhost:8080/"
        },
        "id": "a82sYu_rY2Cb",
        "outputId": "08766495-1623-4330-b9c5-2e31db6e4179"
      },
      "execution_count": 2,
      "outputs": [
        {
          "output_type": "stream",
          "name": "stdout",
          "text": [
            "/content/drive/MyDrive/cv/Training Dataset\n"
          ]
        }
      ]
    },
    {
      "cell_type": "code",
      "source": [
        "%ls"
      ],
      "metadata": {
        "colab": {
          "base_uri": "https://localhost:8080/"
        },
        "id": "lMVbYZ95KQGW",
        "outputId": "a32f08a1-be4d-4ce9-e90f-2069c7e2929b"
      },
      "execution_count": 3,
      "outputs": [
        {
          "output_type": "stream",
          "name": "stdout",
          "text": [
            "\u001b[0m\u001b[01;34mFire\u001b[0m/  \u001b[01;34mNoFire\u001b[0m/\n"
          ]
        }
      ]
    },
    {
      "cell_type": "code",
      "execution_count": 4,
      "metadata": {
        "id": "dCNKDMIP7PON"
      },
      "outputs": [],
      "source": [
        "import os\n",
        "import cv2\n",
        "import numpy as np\n",
        "from tqdm import tqdm"
      ]
    },
    {
      "cell_type": "code",
      "execution_count": 5,
      "metadata": {
        "id": "oj2avCzn7POO"
      },
      "outputs": [],
      "source": [
        "DATADIR = '/content/drive/MyDrive/cv/Training Dataset'\n",
        "CATEGORIES = ['Fire', 'NoFire']"
      ]
    },
    {
      "cell_type": "code",
      "execution_count": 6,
      "metadata": {
        "id": "7DlW9WZm7POQ"
      },
      "outputs": [],
      "source": [
        "IMG_SIZE = 64\n",
        "def create_training_data():\n",
        "    training_data = []\n",
        "    for category in CATEGORIES:  \n",
        "\n",
        "        path = os.path.join(DATADIR,category) \n",
        "        class_num = CATEGORIES.index(category)  # get the classification  (0 or a 1). 0=C 1=O\n",
        "\n",
        "        for img in tqdm(os.listdir(path)):  # iterate over each image\n",
        "            try:\n",
        "                img_array = cv2.imread(os.path.join(path,img))  # convert to array\n",
        "                new_array = cv2.resize(img_array, (IMG_SIZE, IMG_SIZE))  # resize to normalize data size\n",
        "                training_data.append([new_array, class_num])  # add this to our training_data\n",
        "            except Exception as e:  # in the interest in keeping the output clean...\n",
        "                pass\n",
        "              \n",
        "    return training_data"
      ]
    },
    {
      "cell_type": "code",
      "execution_count": 7,
      "metadata": {
        "colab": {
          "base_uri": "https://localhost:8080/"
        },
        "id": "fYAD5pXy7POR",
        "outputId": "efb3b46b-e52e-4897-98f3-dcb44c5ec56a"
      },
      "outputs": [
        {
          "output_type": "stream",
          "name": "stderr",
          "text": [
            "100%|██████████| 1124/1124 [00:23<00:00, 47.12it/s]\n",
            "100%|██████████| 1301/1301 [00:40<00:00, 32.35it/s]\n"
          ]
        }
      ],
      "source": [
        "training_data = create_training_data()\n"
      ]
    },
    {
      "cell_type": "code",
      "execution_count": 8,
      "metadata": {
        "colab": {
          "base_uri": "https://localhost:8080/"
        },
        "id": "Io3MrIA77POS",
        "outputId": "cdb20bfd-b26d-40b4-b303-992644d1ffb0"
      },
      "outputs": [
        {
          "output_type": "stream",
          "name": "stdout",
          "text": [
            "2423\n",
            "1\n",
            "1\n",
            "0\n",
            "0\n",
            "0\n",
            "1\n",
            "0\n",
            "1\n",
            "1\n",
            "0\n"
          ]
        }
      ],
      "source": [
        "import random\n",
        "\n",
        "print(len(training_data))\n",
        "random.shuffle(training_data)\n",
        "for sample in training_data[:10]:\n",
        "    print(sample[1])"
      ]
    },
    {
      "cell_type": "code",
      "execution_count": 9,
      "metadata": {
        "id": "gzjPK5LP7POT"
      },
      "outputs": [],
      "source": [
        "X = []\n",
        "Y = []\n",
        "\n",
        "for features,label in training_data:\n",
        "    X.append(features)\n",
        "    Y.append(label)\n",
        "\n",
        "X = np.array(X).reshape(-1, IMG_SIZE, IMG_SIZE, 3)\n",
        "X = X/255.0\n",
        "X.shape[1:]\n",
        "Y = np.array (Y)\n",
        "#Y = Y/255.0"
      ]
    },
    {
      "cell_type": "code",
      "execution_count": 11,
      "metadata": {
        "id": "yZyonGP27POV"
      },
      "outputs": [],
      "source": [
        "import tensorflow as tf\n",
        "from tensorflow.keras.preprocessing.image import ImageDataGenerator\n",
        "from tensorflow.keras.models import Sequential\n",
        "from tensorflow.keras.layers import Dense, Dropout, Activation, Flatten\n",
        "from tensorflow.keras.layers import Conv2D, AveragePooling2D\n",
        "\n",
        "model = Sequential()\n",
        "\n",
        "\n",
        "model.add(Conv2D(filters=16, kernel_size=(3, 3), activation='relu', input_shape=X.shape[1:]))\n",
        "model.add(AveragePooling2D())\n",
        "model.add(Dropout(0.5))\n",
        "\n",
        "model.add(Conv2D(filters=32, kernel_size=(3, 3), activation='relu'))\n",
        "model.add(AveragePooling2D())\n",
        "model.add(Dropout(0.5))\n",
        "\n",
        "model.add(Conv2D(filters=64, kernel_size=(3, 3), activation='relu'))\n",
        "model.add(AveragePooling2D())\n",
        "model.add(Dropout(0.5))\n",
        "\n",
        "model.add(Flatten())\n",
        "\n",
        "model.add(Dense(units=256, activation='relu'))\n",
        "model.add(Dropout(0.2))\n",
        "\n",
        "model.add(Dense(units=128, activation='relu'))\n",
        "\n",
        "model.add(Dense(units=2, activation = 'softmax'))\n",
        "\n",
        "model.compile(loss='sparse_categorical_crossentropy',\n",
        "              optimizer='adam',\n",
        "              metrics=['accuracy'])\n",
        "\n",
        "\n"
      ]
    },
    {
      "cell_type": "code",
      "execution_count": 12,
      "metadata": {
        "colab": {
          "base_uri": "https://localhost:8080/"
        },
        "id": "lJK_1pCq7POW",
        "outputId": "4d2ed772-6768-4a0d-d0a0-08467f17fcf3"
      },
      "outputs": [
        {
          "output_type": "stream",
          "name": "stdout",
          "text": [
            "Epoch 1/100\n",
            "53/53 [==============================] - 12s 13ms/step - loss: 0.5911 - accuracy: 0.6958 - val_loss: 0.5184 - val_accuracy: 0.7469\n",
            "Epoch 2/100\n",
            "53/53 [==============================] - 0s 7ms/step - loss: 0.5118 - accuracy: 0.7659 - val_loss: 0.5109 - val_accuracy: 0.7442\n",
            "Epoch 3/100\n",
            "53/53 [==============================] - 0s 8ms/step - loss: 0.4880 - accuracy: 0.7665 - val_loss: 0.4512 - val_accuracy: 0.7909\n",
            "Epoch 4/100\n",
            "53/53 [==============================] - 0s 6ms/step - loss: 0.4627 - accuracy: 0.7730 - val_loss: 0.4424 - val_accuracy: 0.8019\n",
            "Epoch 5/100\n",
            "53/53 [==============================] - 0s 6ms/step - loss: 0.4246 - accuracy: 0.8019 - val_loss: 0.4550 - val_accuracy: 0.7662\n",
            "Epoch 6/100\n",
            "53/53 [==============================] - 0s 7ms/step - loss: 0.4020 - accuracy: 0.8208 - val_loss: 0.3935 - val_accuracy: 0.8171\n",
            "Epoch 7/100\n",
            "53/53 [==============================] - 0s 8ms/step - loss: 0.3772 - accuracy: 0.8361 - val_loss: 0.3940 - val_accuracy: 0.8239\n",
            "Epoch 8/100\n",
            "53/53 [==============================] - 0s 7ms/step - loss: 0.3627 - accuracy: 0.8402 - val_loss: 0.3622 - val_accuracy: 0.8349\n",
            "Epoch 9/100\n",
            "53/53 [==============================] - 0s 7ms/step - loss: 0.3464 - accuracy: 0.8461 - val_loss: 0.3325 - val_accuracy: 0.8501\n",
            "Epoch 10/100\n",
            "53/53 [==============================] - 0s 6ms/step - loss: 0.3300 - accuracy: 0.8579 - val_loss: 0.3490 - val_accuracy: 0.8418\n",
            "Epoch 11/100\n",
            "53/53 [==============================] - 0s 6ms/step - loss: 0.3038 - accuracy: 0.8709 - val_loss: 0.3351 - val_accuracy: 0.8473\n",
            "Epoch 12/100\n",
            "53/53 [==============================] - 0s 6ms/step - loss: 0.3022 - accuracy: 0.8685 - val_loss: 0.3367 - val_accuracy: 0.8542\n",
            "Epoch 13/100\n",
            "53/53 [==============================] - 0s 8ms/step - loss: 0.2849 - accuracy: 0.8774 - val_loss: 0.3353 - val_accuracy: 0.8528\n",
            "Epoch 14/100\n",
            "53/53 [==============================] - 0s 6ms/step - loss: 0.2870 - accuracy: 0.8685 - val_loss: 0.2840 - val_accuracy: 0.8707\n",
            "Epoch 15/100\n",
            "53/53 [==============================] - 0s 6ms/step - loss: 0.2520 - accuracy: 0.8974 - val_loss: 0.2937 - val_accuracy: 0.8721\n",
            "Epoch 16/100\n",
            "53/53 [==============================] - 0s 6ms/step - loss: 0.2654 - accuracy: 0.8903 - val_loss: 0.2933 - val_accuracy: 0.8680\n",
            "Epoch 17/100\n",
            "53/53 [==============================] - 0s 7ms/step - loss: 0.2419 - accuracy: 0.8968 - val_loss: 0.2875 - val_accuracy: 0.8762\n",
            "Epoch 18/100\n",
            "53/53 [==============================] - 0s 6ms/step - loss: 0.2462 - accuracy: 0.8921 - val_loss: 0.2896 - val_accuracy: 0.8735\n",
            "Epoch 19/100\n",
            "53/53 [==============================] - 0s 8ms/step - loss: 0.2220 - accuracy: 0.9127 - val_loss: 0.2983 - val_accuracy: 0.8776\n",
            "Epoch 20/100\n",
            "53/53 [==============================] - 0s 7ms/step - loss: 0.2118 - accuracy: 0.9157 - val_loss: 0.2971 - val_accuracy: 0.8790\n",
            "Epoch 21/100\n",
            "53/53 [==============================] - 0s 6ms/step - loss: 0.2120 - accuracy: 0.9198 - val_loss: 0.2800 - val_accuracy: 0.8913\n",
            "Epoch 22/100\n",
            "53/53 [==============================] - 0s 7ms/step - loss: 0.2064 - accuracy: 0.9192 - val_loss: 0.2802 - val_accuracy: 0.8886\n",
            "Epoch 23/100\n",
            "53/53 [==============================] - 0s 6ms/step - loss: 0.1941 - accuracy: 0.9228 - val_loss: 0.3422 - val_accuracy: 0.8459\n",
            "Epoch 24/100\n",
            "53/53 [==============================] - 0s 6ms/step - loss: 0.1791 - accuracy: 0.9251 - val_loss: 0.2769 - val_accuracy: 0.8831\n",
            "Epoch 25/100\n",
            "53/53 [==============================] - 0s 7ms/step - loss: 0.1915 - accuracy: 0.9222 - val_loss: 0.2640 - val_accuracy: 0.8886\n",
            "Epoch 26/100\n",
            "53/53 [==============================] - 0s 6ms/step - loss: 0.1697 - accuracy: 0.9304 - val_loss: 0.2792 - val_accuracy: 0.8845\n",
            "Epoch 27/100\n",
            "53/53 [==============================] - 0s 6ms/step - loss: 0.1379 - accuracy: 0.9475 - val_loss: 0.2944 - val_accuracy: 0.8982\n",
            "Epoch 28/100\n",
            "53/53 [==============================] - 0s 6ms/step - loss: 0.1415 - accuracy: 0.9458 - val_loss: 0.2751 - val_accuracy: 0.8996\n",
            "Epoch 29/100\n",
            "53/53 [==============================] - 0s 6ms/step - loss: 0.1706 - accuracy: 0.9363 - val_loss: 0.2492 - val_accuracy: 0.9078\n",
            "Epoch 30/100\n",
            "53/53 [==============================] - 0s 8ms/step - loss: 0.1485 - accuracy: 0.9363 - val_loss: 0.2939 - val_accuracy: 0.8790\n",
            "Epoch 31/100\n",
            "53/53 [==============================] - 0s 6ms/step - loss: 0.1340 - accuracy: 0.9505 - val_loss: 0.2616 - val_accuracy: 0.9010\n",
            "Epoch 32/100\n",
            "53/53 [==============================] - 0s 7ms/step - loss: 0.1481 - accuracy: 0.9493 - val_loss: 0.2811 - val_accuracy: 0.9010\n",
            "Epoch 33/100\n",
            "53/53 [==============================] - 0s 6ms/step - loss: 0.1265 - accuracy: 0.9452 - val_loss: 0.2425 - val_accuracy: 0.8968\n",
            "Epoch 34/100\n",
            "53/53 [==============================] - 0s 8ms/step - loss: 0.1139 - accuracy: 0.9463 - val_loss: 0.2760 - val_accuracy: 0.8996\n",
            "Epoch 35/100\n",
            "53/53 [==============================] - 0s 6ms/step - loss: 0.1403 - accuracy: 0.9493 - val_loss: 0.3179 - val_accuracy: 0.8707\n",
            "Epoch 36/100\n",
            "53/53 [==============================] - 0s 6ms/step - loss: 0.1125 - accuracy: 0.9629 - val_loss: 0.2582 - val_accuracy: 0.9216\n",
            "Epoch 37/100\n",
            "53/53 [==============================] - 0s 7ms/step - loss: 0.1201 - accuracy: 0.9469 - val_loss: 0.2533 - val_accuracy: 0.9147\n",
            "Epoch 38/100\n",
            "53/53 [==============================] - 0s 6ms/step - loss: 0.0960 - accuracy: 0.9599 - val_loss: 0.2351 - val_accuracy: 0.9202\n",
            "Epoch 39/100\n",
            "53/53 [==============================] - 0s 6ms/step - loss: 0.1049 - accuracy: 0.9605 - val_loss: 0.2171 - val_accuracy: 0.9106\n",
            "Epoch 40/100\n",
            "53/53 [==============================] - 0s 6ms/step - loss: 0.0898 - accuracy: 0.9652 - val_loss: 0.2665 - val_accuracy: 0.8955\n",
            "Epoch 41/100\n",
            "53/53 [==============================] - 0s 6ms/step - loss: 0.0702 - accuracy: 0.9729 - val_loss: 0.3184 - val_accuracy: 0.9106\n",
            "Epoch 42/100\n",
            "53/53 [==============================] - 0s 6ms/step - loss: 0.1003 - accuracy: 0.9634 - val_loss: 0.2621 - val_accuracy: 0.9065\n",
            "Epoch 43/100\n",
            "53/53 [==============================] - 0s 6ms/step - loss: 0.1075 - accuracy: 0.9593 - val_loss: 0.2836 - val_accuracy: 0.9065\n",
            "Epoch 44/100\n",
            "53/53 [==============================] - 0s 6ms/step - loss: 0.0846 - accuracy: 0.9646 - val_loss: 0.2771 - val_accuracy: 0.9010\n",
            "Epoch 45/100\n",
            "53/53 [==============================] - 0s 6ms/step - loss: 0.0942 - accuracy: 0.9646 - val_loss: 0.2519 - val_accuracy: 0.9133\n",
            "Epoch 46/100\n",
            "53/53 [==============================] - 0s 6ms/step - loss: 0.0878 - accuracy: 0.9682 - val_loss: 0.2335 - val_accuracy: 0.9202\n",
            "Epoch 47/100\n",
            "53/53 [==============================] - 0s 6ms/step - loss: 0.0815 - accuracy: 0.9693 - val_loss: 0.2470 - val_accuracy: 0.9133\n",
            "Epoch 48/100\n",
            "53/53 [==============================] - 0s 8ms/step - loss: 0.0712 - accuracy: 0.9729 - val_loss: 0.2366 - val_accuracy: 0.9298\n",
            "Epoch 49/100\n",
            "53/53 [==============================] - 0s 6ms/step - loss: 0.0744 - accuracy: 0.9746 - val_loss: 0.3128 - val_accuracy: 0.9092\n",
            "Epoch 50/100\n",
            "53/53 [==============================] - 0s 7ms/step - loss: 0.0474 - accuracy: 0.9841 - val_loss: 0.2766 - val_accuracy: 0.9161\n",
            "Epoch 51/100\n",
            "53/53 [==============================] - 0s 8ms/step - loss: 0.0713 - accuracy: 0.9770 - val_loss: 0.2745 - val_accuracy: 0.9202\n",
            "Epoch 52/100\n",
            "53/53 [==============================] - 0s 8ms/step - loss: 0.0713 - accuracy: 0.9746 - val_loss: 0.2995 - val_accuracy: 0.9202\n",
            "Epoch 53/100\n",
            "53/53 [==============================] - 0s 6ms/step - loss: 0.0448 - accuracy: 0.9841 - val_loss: 0.2818 - val_accuracy: 0.9230\n",
            "Epoch 54/100\n",
            "53/53 [==============================] - 0s 8ms/step - loss: 0.0545 - accuracy: 0.9829 - val_loss: 0.2815 - val_accuracy: 0.9175\n",
            "Epoch 55/100\n",
            "53/53 [==============================] - 0s 6ms/step - loss: 0.0386 - accuracy: 0.9876 - val_loss: 0.3502 - val_accuracy: 0.9120\n",
            "Epoch 56/100\n",
            "53/53 [==============================] - 0s 7ms/step - loss: 0.0990 - accuracy: 0.9634 - val_loss: 0.3891 - val_accuracy: 0.8900\n",
            "Epoch 57/100\n",
            "53/53 [==============================] - 0s 6ms/step - loss: 0.0624 - accuracy: 0.9805 - val_loss: 0.2688 - val_accuracy: 0.9188\n",
            "Epoch 58/100\n",
            "53/53 [==============================] - 0s 6ms/step - loss: 0.0415 - accuracy: 0.9811 - val_loss: 0.2658 - val_accuracy: 0.9120\n",
            "Epoch 59/100\n",
            "53/53 [==============================] - 0s 6ms/step - loss: 0.0552 - accuracy: 0.9841 - val_loss: 0.3225 - val_accuracy: 0.9175\n",
            "Epoch 60/100\n",
            "53/53 [==============================] - 0s 6ms/step - loss: 0.0568 - accuracy: 0.9764 - val_loss: 0.3493 - val_accuracy: 0.9010\n",
            "Epoch 61/100\n",
            "53/53 [==============================] - 0s 6ms/step - loss: 0.0561 - accuracy: 0.9817 - val_loss: 0.2863 - val_accuracy: 0.9216\n",
            "Epoch 62/100\n",
            "53/53 [==============================] - 0s 7ms/step - loss: 0.0670 - accuracy: 0.9794 - val_loss: 0.2490 - val_accuracy: 0.9257\n",
            "Epoch 63/100\n",
            "53/53 [==============================] - 0s 8ms/step - loss: 0.0410 - accuracy: 0.9841 - val_loss: 0.2400 - val_accuracy: 0.9285\n",
            "Epoch 64/100\n",
            "53/53 [==============================] - 0s 6ms/step - loss: 0.0450 - accuracy: 0.9864 - val_loss: 0.2724 - val_accuracy: 0.9188\n",
            "Epoch 65/100\n",
            "53/53 [==============================] - 0s 8ms/step - loss: 0.0321 - accuracy: 0.9894 - val_loss: 0.3198 - val_accuracy: 0.9175\n",
            "Epoch 66/100\n",
            "53/53 [==============================] - 0s 6ms/step - loss: 0.0377 - accuracy: 0.9882 - val_loss: 0.3492 - val_accuracy: 0.9133\n",
            "Epoch 67/100\n",
            "53/53 [==============================] - 0s 7ms/step - loss: 0.0306 - accuracy: 0.9888 - val_loss: 0.3274 - val_accuracy: 0.9133\n",
            "Epoch 68/100\n",
            "53/53 [==============================] - 0s 6ms/step - loss: 0.0460 - accuracy: 0.9858 - val_loss: 0.2916 - val_accuracy: 0.9298\n",
            "Epoch 69/100\n",
            "53/53 [==============================] - 0s 7ms/step - loss: 0.0402 - accuracy: 0.9829 - val_loss: 0.4312 - val_accuracy: 0.8776\n",
            "Epoch 70/100\n",
            "53/53 [==============================] - 0s 6ms/step - loss: 0.0520 - accuracy: 0.9829 - val_loss: 0.2829 - val_accuracy: 0.9285\n",
            "Epoch 71/100\n",
            "53/53 [==============================] - 0s 8ms/step - loss: 0.0383 - accuracy: 0.9870 - val_loss: 0.2735 - val_accuracy: 0.9188\n",
            "Epoch 72/100\n",
            "53/53 [==============================] - 0s 6ms/step - loss: 0.0374 - accuracy: 0.9864 - val_loss: 0.3797 - val_accuracy: 0.9092\n",
            "Epoch 73/100\n",
            "53/53 [==============================] - 0s 6ms/step - loss: 0.0424 - accuracy: 0.9853 - val_loss: 0.2797 - val_accuracy: 0.9175\n",
            "Epoch 74/100\n",
            "53/53 [==============================] - 0s 8ms/step - loss: 0.0383 - accuracy: 0.9853 - val_loss: 0.3325 - val_accuracy: 0.9175\n",
            "Epoch 75/100\n",
            "53/53 [==============================] - 0s 7ms/step - loss: 0.0455 - accuracy: 0.9876 - val_loss: 0.2991 - val_accuracy: 0.9188\n",
            "Epoch 76/100\n",
            "53/53 [==============================] - 0s 6ms/step - loss: 0.0430 - accuracy: 0.9858 - val_loss: 0.3712 - val_accuracy: 0.8941\n",
            "Epoch 77/100\n",
            "53/53 [==============================] - 0s 7ms/step - loss: 0.0501 - accuracy: 0.9841 - val_loss: 0.3158 - val_accuracy: 0.8996\n",
            "Epoch 78/100\n",
            "53/53 [==============================] - 0s 6ms/step - loss: 0.0243 - accuracy: 0.9906 - val_loss: 0.3328 - val_accuracy: 0.9285\n",
            "Epoch 79/100\n",
            "53/53 [==============================] - 0s 6ms/step - loss: 0.0261 - accuracy: 0.9906 - val_loss: 0.3328 - val_accuracy: 0.9078\n",
            "Epoch 80/100\n",
            "53/53 [==============================] - 0s 6ms/step - loss: 0.0210 - accuracy: 0.9917 - val_loss: 0.3407 - val_accuracy: 0.9202\n",
            "Epoch 81/100\n",
            "53/53 [==============================] - 0s 6ms/step - loss: 0.0292 - accuracy: 0.9917 - val_loss: 0.3107 - val_accuracy: 0.9202\n",
            "Epoch 82/100\n",
            "53/53 [==============================] - 0s 8ms/step - loss: 0.0318 - accuracy: 0.9906 - val_loss: 0.3560 - val_accuracy: 0.9051\n",
            "Epoch 83/100\n",
            "53/53 [==============================] - 0s 6ms/step - loss: 0.0422 - accuracy: 0.9829 - val_loss: 0.3853 - val_accuracy: 0.9065\n",
            "Epoch 84/100\n",
            "53/53 [==============================] - 0s 7ms/step - loss: 0.0300 - accuracy: 0.9888 - val_loss: 0.2956 - val_accuracy: 0.9243\n",
            "Epoch 85/100\n",
            "53/53 [==============================] - 0s 6ms/step - loss: 0.0200 - accuracy: 0.9941 - val_loss: 0.3377 - val_accuracy: 0.9230\n",
            "Epoch 86/100\n",
            "53/53 [==============================] - 0s 6ms/step - loss: 0.0386 - accuracy: 0.9882 - val_loss: 0.3017 - val_accuracy: 0.9161\n",
            "Epoch 87/100\n",
            "53/53 [==============================] - 0s 8ms/step - loss: 0.0405 - accuracy: 0.9864 - val_loss: 0.3537 - val_accuracy: 0.9133\n",
            "Epoch 88/100\n",
            "53/53 [==============================] - 0s 8ms/step - loss: 0.0186 - accuracy: 0.9929 - val_loss: 0.3368 - val_accuracy: 0.9175\n",
            "Epoch 89/100\n",
            "53/53 [==============================] - 0s 6ms/step - loss: 0.0396 - accuracy: 0.9906 - val_loss: 0.3013 - val_accuracy: 0.9271\n",
            "Epoch 90/100\n",
            "53/53 [==============================] - 0s 6ms/step - loss: 0.0188 - accuracy: 0.9929 - val_loss: 0.3663 - val_accuracy: 0.9051\n",
            "Epoch 91/100\n",
            "53/53 [==============================] - 0s 6ms/step - loss: 0.0185 - accuracy: 0.9929 - val_loss: 0.4166 - val_accuracy: 0.9216\n",
            "Epoch 92/100\n",
            "53/53 [==============================] - 0s 6ms/step - loss: 0.0524 - accuracy: 0.9882 - val_loss: 0.2776 - val_accuracy: 0.9285\n",
            "Epoch 93/100\n",
            "53/53 [==============================] - 0s 7ms/step - loss: 0.0390 - accuracy: 0.9906 - val_loss: 0.3421 - val_accuracy: 0.9092\n",
            "Epoch 94/100\n",
            "53/53 [==============================] - 0s 6ms/step - loss: 0.0459 - accuracy: 0.9841 - val_loss: 0.2760 - val_accuracy: 0.9202\n",
            "Epoch 95/100\n",
            "53/53 [==============================] - 0s 6ms/step - loss: 0.0257 - accuracy: 0.9935 - val_loss: 0.2888 - val_accuracy: 0.9188\n",
            "Epoch 96/100\n",
            "53/53 [==============================] - 0s 6ms/step - loss: 0.0227 - accuracy: 0.9923 - val_loss: 0.2966 - val_accuracy: 0.9230\n",
            "Epoch 97/100\n",
            "53/53 [==============================] - 0s 6ms/step - loss: 0.0333 - accuracy: 0.9882 - val_loss: 0.2872 - val_accuracy: 0.9202\n",
            "Epoch 98/100\n",
            "53/53 [==============================] - 0s 6ms/step - loss: 0.0342 - accuracy: 0.9870 - val_loss: 0.2764 - val_accuracy: 0.9298\n",
            "Epoch 99/100\n",
            "53/53 [==============================] - 0s 6ms/step - loss: 0.0305 - accuracy: 0.9912 - val_loss: 0.2867 - val_accuracy: 0.9216\n",
            "Epoch 100/100\n",
            "53/53 [==============================] - 0s 6ms/step - loss: 0.0125 - accuracy: 0.9959 - val_loss: 0.3670 - val_accuracy: 0.9147\n"
          ]
        }
      ],
      "source": [
        "history = model.fit(X, Y, batch_size=32, epochs=100,validation_split=0.3)"
      ]
    },
    {
      "cell_type": "code",
      "execution_count": 13,
      "metadata": {
        "id": "AuXNmC8D7POX"
      },
      "outputs": [],
      "source": [
        "model.save('TrainedModels/Fire-64x64-color-v7.1-soft.h5')"
      ]
    },
    {
      "cell_type": "code",
      "execution_count": 14,
      "metadata": {
        "colab": {
          "base_uri": "https://localhost:8080/",
          "height": 295
        },
        "id": "67g2pvAw7POY",
        "outputId": "b3dd567a-f1b1-48e8-fe23-541f0fedfdc0"
      },
      "outputs": [
        {
          "output_type": "display_data",
          "data": {
            "text/plain": [
              "<Figure size 432x288 with 1 Axes>"
            ],
            "image/png": "[encoded data removed]"
          },
          "metadata": {
            "needs_background": "light"
          }
        }
      ],
      "source": [
        "from matplotlib import pyplot as plt\n",
        "plt.plot(history.history['accuracy'])\n",
        "plt.plot(history.history['val_accuracy'])\n",
        "plt.title('model accuracy')\n",
        "plt.ylabel('accuracy')\n",
        "plt.xlabel('epoch')\n",
        "plt.legend(['train', 'validation'], loc='upper left')\n",
        "plt.show()"
      ]
    },
    {
      "cell_type": "code",
      "execution_count": 15,
      "metadata": {
        "colab": {
          "base_uri": "https://localhost:8080/",
          "height": 295
        },
        "id": "QX-pU5gj7POZ",
        "outputId": "3888274c-b12d-4e45-e359-80c6de8414c8"
      },
      "outputs": [
        {
          "output_type": "display_data",
          "data": {
            "text/plain": [
              "<Figure size 432x288 with 1 Axes>"
            ],
            "image/png": "[encoded data removed]"
          },
          "metadata": {
            "needs_background": "light"
          }
        }
      ],
      "source": [
        "plt.plot(history.history['loss'])\n",
        "plt.plot(history.history['val_loss'])\n",
        "plt.title('model loss')\n",
        "plt.ylabel('loss')\n",
        "plt.xlabel('epoch')\n",
        "plt.legend(['train', 'validation'], loc='upper left')\n",
        "plt.show()"
      ]
    }
  ],
  "metadata": {
    "kernelspec": {
      "display_name": "cv",
      "language": "python",
      "name": "cv"
    },
    "language_info": {
      "codemirror_mode": {
        "name": "ipython",
        "version": 3
      },
      "file_extension": ".py",
      "mimetype": "text/x-python",
      "name": "python",
      "nbconvert_exporter": "python",
      "pygments_lexer": "ipython3",
      "version": "3.5.2"
    },
    "colab": {
      "name": "cv.ipynb",
      "provenance": [],
      "include_colab_link": true
    },
    "accelerator": "GPU",
    "gpuClass": "standard"
  },
  "nbformat": 4,
  "nbformat_minor": 0
}